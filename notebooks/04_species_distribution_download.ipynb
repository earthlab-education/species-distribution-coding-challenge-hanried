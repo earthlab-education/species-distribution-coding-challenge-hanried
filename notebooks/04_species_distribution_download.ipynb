{
  "cells": [
    {
      "cell_type": "markdown",
      "id": "19653740-42cf-45a4-b1f0-8c462503e2ff",
      "metadata": {},
      "source": [
        "# Access locations and times of Veery encounters\n",
        "\n",
        "For this challenge, you will use a database called the [Global\n",
        "Biodiversity Information Facility (GBIF)](https://www.gbif.org/). GBIF\n",
        "is compiled from species observation data all over the world, and\n",
        "includes everything from museum specimens to photos taken by citizen\n",
        "scientists in their backyards.\n",
        "\n",
        "<link rel=\"stylesheet\" type=\"text/css\" href=\"./assets/styles.css\"><div class=\"callout callout-style-default callout-titled callout-task\"><div class=\"callout-header\"><div class=\"callout-icon-container\"><i class=\"callout-icon\"></i></div><div class=\"callout-title-container flex-fill\">Try It: Explore GBIF</div></div><div class=\"callout-body-container callout-body\"><p>Before your get started, go to the <a\n",
        "href=\"https://www.gbif.org/occurrence/search\">GBIF occurrences search\n",
        "page</a> and explore the data.</p></div></div>\n",
        "\n",
        "> **Contribute to open data**\n",
        ">\n",
        "> You can get your own observations added to GBIF using\n",
        "> [iNaturalist](https://www.inaturalist.org/)!\n",
        "\n",
        "### Set up your code to prepare for download\n",
        "\n",
        "We will be getting data from a source called [GBIF (Global Biodiversity\n",
        "Information Facility)](https://www.gbif.org/). We need a package called\n",
        "`pygbif` to access the data, which may not be included in your\n",
        "environment. Install it by running the cell below:"
      ]
    },
    {
      "cell_type": "code",
      "execution_count": 1,
      "id": "75e6717e",
      "metadata": {},
      "outputs": [
        {
          "name": "stdout",
          "output_type": "stream",
          "text": [
            "Requirement already satisfied: pygbif in /opt/conda/lib/python3.11/site-packages (0.6.4)\n",
            "Requirement already satisfied: requests>2.7 in /opt/conda/lib/python3.11/site-packages (from pygbif) (2.32.3)\n",
            "Requirement already satisfied: requests-cache in /opt/conda/lib/python3.11/site-packages (from pygbif) (1.2.1)\n",
            "Requirement already satisfied: geojson-rewind in /opt/conda/lib/python3.11/site-packages (from pygbif) (1.1.0)\n",
            "Requirement already satisfied: geomet in /opt/conda/lib/python3.11/site-packages (from pygbif) (1.1.0)\n",
            "Requirement already satisfied: appdirs>=1.4.3 in /opt/conda/lib/python3.11/site-packages (from pygbif) (1.4.4)\n",
            "Requirement already satisfied: matplotlib in /opt/conda/lib/python3.11/site-packages (from pygbif) (3.9.2)\n",
            "Requirement already satisfied: charset-normalizer<4,>=2 in /opt/conda/lib/python3.11/site-packages (from requests>2.7->pygbif) (3.3.2)\n",
            "Requirement already satisfied: idna<4,>=2.5 in /opt/conda/lib/python3.11/site-packages (from requests>2.7->pygbif) (3.10)\n",
            "Requirement already satisfied: urllib3<3,>=1.21.1 in /opt/conda/lib/python3.11/site-packages (from requests>2.7->pygbif) (2.2.3)\n",
            "Requirement already satisfied: certifi>=2017.4.17 in /opt/conda/lib/python3.11/site-packages (from requests>2.7->pygbif) (2024.8.30)\n",
            "Requirement already satisfied: click in /opt/conda/lib/python3.11/site-packages (from geomet->pygbif) (8.1.7)\n",
            "Requirement already satisfied: contourpy>=1.0.1 in /opt/conda/lib/python3.11/site-packages (from matplotlib->pygbif) (1.3.0)\n",
            "Requirement already satisfied: cycler>=0.10 in /opt/conda/lib/python3.11/site-packages (from matplotlib->pygbif) (0.12.1)\n",
            "Requirement already satisfied: fonttools>=4.22.0 in /opt/conda/lib/python3.11/site-packages (from matplotlib->pygbif) (4.54.1)\n",
            "Requirement already satisfied: kiwisolver>=1.3.1 in /opt/conda/lib/python3.11/site-packages (from matplotlib->pygbif) (1.4.7)\n",
            "Requirement already satisfied: numpy>=1.23 in /opt/conda/lib/python3.11/site-packages (from matplotlib->pygbif) (2.0.2)\n",
            "Requirement already satisfied: packaging>=20.0 in /opt/conda/lib/python3.11/site-packages (from matplotlib->pygbif) (24.1)\n",
            "Requirement already satisfied: pillow>=8 in /opt/conda/lib/python3.11/site-packages (from matplotlib->pygbif) (10.4.0)\n",
            "Requirement already satisfied: pyparsing>=2.3.1 in /opt/conda/lib/python3.11/site-packages (from matplotlib->pygbif) (3.1.4)\n",
            "Requirement already satisfied: python-dateutil>=2.7 in /opt/conda/lib/python3.11/site-packages (from matplotlib->pygbif) (2.9.0)\n",
            "Requirement already satisfied: attrs>=21.2 in /opt/conda/lib/python3.11/site-packages (from requests-cache->pygbif) (24.2.0)\n",
            "Requirement already satisfied: cattrs>=22.2 in /opt/conda/lib/python3.11/site-packages (from requests-cache->pygbif) (24.1.2)\n",
            "Requirement already satisfied: platformdirs>=2.5 in /opt/conda/lib/python3.11/site-packages (from requests-cache->pygbif) (4.3.6)\n",
            "Requirement already satisfied: url-normalize>=1.4 in /opt/conda/lib/python3.11/site-packages (from requests-cache->pygbif) (1.4.3)\n",
            "Requirement already satisfied: six>=1.5 in /opt/conda/lib/python3.11/site-packages (from python-dateutil>=2.7->matplotlib->pygbif) (1.16.0)\n"
          ]
        }
      ],
      "source": [
        "%%bash\n",
        "pip install pygbif"
      ]
    },
    {
      "cell_type": "markdown",
      "id": "c91260a6-877a-4a6a-825b-6bdf9dcb0a6a",
      "metadata": {},
      "source": [
        "<link rel=\"stylesheet\" type=\"text/css\" href=\"./assets/styles.css\"><div class=\"callout callout-style-default callout-titled callout-task\"><div class=\"callout-header\"><div class=\"callout-icon-container\"><i class=\"callout-icon\"></i></div><div class=\"callout-title-container flex-fill\">Try It: Import packages</div></div><div class=\"callout-body-container callout-body\"><p>In the imports cell, we’ve included some packages that you will need.\n",
        "Add imports for packages that will help you:</p>\n",
        "<ol type=\"1\">\n",
        "<li>Work with reproducible file paths</li>\n",
        "<li>Work with tabular data</li>\n",
        "</ol></div></div>"
      ]
    },
    {
      "cell_type": "code",
      "execution_count": 2,
      "id": "601c7278",
      "metadata": {
        "highlight": true
      },
      "outputs": [],
      "source": [
        "import pandas as pd\n",
        "import os\n",
        "import pathlib\n",
        "\n",
        "import time\n",
        "import zipfile\n",
        "from getpass import getpass\n",
        "from glob import glob\n",
        "\n",
        "import pygbif.occurrences as occ\n",
        "import pygbif.species as species"
      ]
    },
    {
      "cell_type": "code",
      "execution_count": 3,
      "id": "9cf408e1",
      "metadata": {
        "highlight": true
      },
      "outputs": [],
      "source": [
        "# Create data directory in the home folder\n",
        "data_dir = os.path.join(\n",
        "    # Home directory\n",
        "    pathlib.Path.home(),\n",
        "    # Earth analytics data directory\n",
        "    'earth-analytics',\n",
        "    'data',\n",
        "    # Project directory\n",
        "    'blue-jay-migration',\n",
        ")\n",
        "os.makedirs(data_dir, exist_ok=True)\n",
        "\n",
        "# Define the directory name for GBIF data, create directory\n",
        "gbif_dir = os.path.join(data_dir, 'blue-jay-gbif')\n",
        "\n",
        "os.makedirs(gbif_dir, exist_ok=True)\n",
        "\n",
        "gbif_path = os.path.join(gbif_dir, 'blue-jay.csv')"
      ]
    },
    {
      "cell_type": "code",
      "execution_count": 4,
      "id": "b98eb2df",
      "metadata": {},
      "outputs": [
        {
          "name": "stdout",
          "output_type": "stream",
          "text": [
            "/home/jovyan/earth-analytics/data/blue-jay-migration/\n",
            "/home/jovyan/earth-analytics/data/blue-jay-migration/blue-jay-gbif\n"
          ]
        }
      ],
      "source": [
        "%%bash\n",
        "find ~/earth-analytics/data/blue-jay-migration/"
      ]
    },
    {
      "cell_type": "markdown",
      "id": "2583a48e-621d-42a3-83ca-503c05db41bc",
      "metadata": {},
      "source": [
        ":::\n",
        "\n",
        "### Register and log in to GBIF\n",
        "\n",
        "You will need a [GBIF account](https://www.gbif.org/) to complete this\n",
        "challenge. You can use your GitHub account to authenticate with GBIF.\n",
        "Then, run the following code to save your credentials on your computer.\n",
        "\n",
        "> **Warning**\n",
        ">\n",
        "> Your email address **must** match the email you used to sign up for\n",
        "> GBIF!\n",
        "\n",
        "> **Tip**\n",
        ">\n",
        "> If you accidentally enter your credentials wrong, you can set\n",
        "> `reset_credentials=True` instead of `reset_credentials=False`."
      ]
    },
    {
      "cell_type": "code",
      "execution_count": 5,
      "id": "989f737e",
      "metadata": {},
      "outputs": [],
      "source": [
        "reset_credentials = False\n",
        "# GBIF needs a username, password, and email\n",
        "credentials = dict(\n",
        "    GBIF_USER=(input, 'hannahrieder386'),\n",
        "    GBIF_PWD=(getpass, 'mincemeat145'),\n",
        "    GBIF_EMAIL=(input, 'hannahrieder386@gmail.com'),\n",
        ")\n",
        "for env_variable, (prompt_func, prompt_text) in credentials.items():\n",
        "    # Delete credential from environment if requested\n",
        "    if reset_credentials and (env_variable in os.environ):\n",
        "        os.environ.pop(env_variable)\n",
        "    # Ask for credential and save to environment\n",
        "    if not env_variable in os.environ:\n",
        "        os.environ[env_variable] = prompt_func(prompt_text)"
      ]
    },
    {
      "cell_type": "markdown",
      "id": "8b3d472f-2079-4eb9-9454-6ee95c40c2e7",
      "metadata": {},
      "source": [
        "### Get the species key\n",
        "\n",
        "> ** Your task**\n",
        ">\n",
        "> 1.  Replace the `species_name` with the name of the species you want\n",
        ">     to look up\n",
        "> 2.  Run the code to get the species key"
      ]
    },
    {
      "cell_type": "code",
      "execution_count": 6,
      "id": "90a15d5c",
      "metadata": {
        "highlight": true
      },
      "outputs": [
        {
          "data": {
            "text/plain": [
              "{'key': 168007494,\n",
              " 'datasetKey': 'a6c6cead-b5ce-4a4e-8cf5-1542ba708dec',\n",
              " 'nubKey': 2482593,\n",
              " 'parentKey': 168007493,\n",
              " 'parent': 'Cyanocitta',\n",
              " 'kingdom': 'Animalia',\n",
              " 'phylum': 'Chordata',\n",
              " 'order': 'Passeriformes',\n",
              " 'family': 'Corvidae',\n",
              " 'genus': 'Cyanocitta',\n",
              " 'species': 'Cyanocitta cristata',\n",
              " 'kingdomKey': 167920784,\n",
              " 'phylumKey': 168001715,\n",
              " 'classKey': 168003099,\n",
              " 'orderKey': 168005163,\n",
              " 'familyKey': 168007364,\n",
              " 'genusKey': 168007493,\n",
              " 'speciesKey': 168007494,\n",
              " 'scientificName': 'Cyanocitta cristata',\n",
              " 'canonicalName': 'Cyanocitta cristata',\n",
              " 'nameType': 'SCIENTIFIC',\n",
              " 'taxonomicStatus': 'ACCEPTED',\n",
              " 'rank': 'SPECIES',\n",
              " 'origin': 'SOURCE',\n",
              " 'numDescendants': 0,\n",
              " 'numOccurrences': 0,\n",
              " 'habitats': [],\n",
              " 'nomenclaturalStatus': [],\n",
              " 'threatStatuses': [],\n",
              " 'descriptions': [],\n",
              " 'vernacularNames': [{'vernacularName': 'blåskrike', 'language': 'nob'}],\n",
              " 'higherClassificationMap': {'167920784': 'Animalia',\n",
              "  '168001715': 'Chordata',\n",
              "  '168003099': 'Aves',\n",
              "  '168005163': 'Passeriformes',\n",
              "  '168007364': 'Corvidae',\n",
              "  '168007493': 'Cyanocitta'},\n",
              " 'synonym': False,\n",
              " 'class': 'Aves'}"
            ]
          },
          "execution_count": 6,
          "metadata": {},
          "output_type": "execute_result"
        }
      ],
      "source": [
        "# Query species\n",
        "species_info = species.name_lookup('Cyanocitta cristata', rank='species')\n",
        "\n",
        "# Get the first result\n",
        "first_result = species_info['results'][0]\n",
        "first_result"
      ]
    },
    {
      "cell_type": "code",
      "execution_count": 7,
      "id": "410f40f4",
      "metadata": {},
      "outputs": [
        {
          "data": {
            "text/plain": [
              "2482593"
            ]
          },
          "execution_count": 7,
          "metadata": {},
          "output_type": "execute_result"
        }
      ],
      "source": [
        "# Get the species key (nubKey)\n",
        "species_key = first_result['nubKey']\n",
        "species_key"
      ]
    },
    {
      "cell_type": "code",
      "execution_count": 8,
      "id": "69b4f992",
      "metadata": {},
      "outputs": [
        {
          "data": {
            "text/plain": [
              "('Cyanocitta cristata', 2482593)"
            ]
          },
          "execution_count": 8,
          "metadata": {},
          "output_type": "execute_result"
        }
      ],
      "source": [
        "# Check the result\n",
        "first_result['species'], species_key"
      ]
    },
    {
      "cell_type": "markdown",
      "id": "28bfdb8b-fb88-4c48-befd-ca078f5e2c0d",
      "metadata": {},
      "source": [
        "### Download data from GBIF\n",
        "\n",
        "::: {.callout-task title=“Submit a request to GBIF”\n",
        "\n",
        "1.  Replace `csv_file_pattern` with a string that will match **any**\n",
        "    `.csv` file when used in the `glob` function. HINT: the character\n",
        "    `*` represents any number of any values except the file separator\n",
        "    (e.g. `/`)\n",
        "\n",
        "2.  Add parameters to the GBIF download function, `occ.download()` to\n",
        "    limit your query to:\n",
        "\n",
        "    -   observations\n",
        "    -   from 2023\n",
        "    -   with spatial coordinates.\n",
        "\n",
        "3.  Then, run the download. **This can take a few minutes**. :::"
      ]
    },
    {
      "cell_type": "code",
      "execution_count": 9,
      "id": "0bdc80c5",
      "metadata": {
        "highlight": true
      },
      "outputs": [
        {
          "ename": "Exception",
          "evalue": "error: , with error status code 401check your number of active downloads.",
          "output_type": "error",
          "traceback": [
            "\u001b[0;31m---------------------------------------------------------------------------\u001b[0m",
            "\u001b[0;31mException\u001b[0m                                 Traceback (most recent call last)",
            "Cell \u001b[0;32mIn[9], line 5\u001b[0m\n\u001b[1;32m      2\u001b[0m gbif_pattern \u001b[38;5;241m=\u001b[39m os\u001b[38;5;241m.\u001b[39mpath\u001b[38;5;241m.\u001b[39mjoin(gbif_dir, \u001b[38;5;124m'\u001b[39m\u001b[38;5;124m*.csv\u001b[39m\u001b[38;5;124m'\u001b[39m)\n\u001b[1;32m      3\u001b[0m \u001b[38;5;28;01mif\u001b[39;00m \u001b[38;5;129;01mnot\u001b[39;00m glob(gbif_pattern):\n\u001b[1;32m      4\u001b[0m     \u001b[38;5;66;03m# Submit query to GBIF\u001b[39;00m\n\u001b[0;32m----> 5\u001b[0m     gbif_query \u001b[38;5;241m=\u001b[39m \u001b[43mocc\u001b[49m\u001b[38;5;241;43m.\u001b[39;49m\u001b[43mdownload\u001b[49m\u001b[43m(\u001b[49m\u001b[43m[\u001b[49m\n\u001b[1;32m      6\u001b[0m \u001b[43m        \u001b[49m\u001b[38;5;124;43m\"\u001b[39;49m\u001b[38;5;124;43mspeciesKey = 2482593\u001b[39;49m\u001b[38;5;124;43m\"\u001b[39;49m\u001b[43m,\u001b[49m\n\u001b[1;32m      7\u001b[0m \u001b[43m        \u001b[49m\u001b[38;5;124;43m\"\u001b[39;49m\u001b[38;5;124;43myear = 2023\u001b[39;49m\u001b[38;5;124;43m\"\u001b[39;49m\u001b[43m,\u001b[49m\n\u001b[1;32m      8\u001b[0m \u001b[43m        \u001b[49m\u001b[38;5;124;43m\"\u001b[39;49m\u001b[38;5;124;43mhasCoordinate = TRUE\u001b[39;49m\u001b[38;5;124;43m\"\u001b[39;49m\u001b[43m,\u001b[49m\n\u001b[1;32m      9\u001b[0m \u001b[43m    \u001b[49m\u001b[43m]\u001b[49m\u001b[43m)\u001b[49m\n\u001b[1;32m     10\u001b[0m     \u001b[38;5;66;03m# Only download once\u001b[39;00m\n\u001b[1;32m     11\u001b[0m     \u001b[38;5;28;01mif\u001b[39;00m \u001b[38;5;129;01mnot\u001b[39;00m \u001b[38;5;124m'\u001b[39m\u001b[38;5;124mGBIF_DOWNLOAD_KEY\u001b[39m\u001b[38;5;124m'\u001b[39m \u001b[38;5;129;01min\u001b[39;00m os\u001b[38;5;241m.\u001b[39menviron:\n",
            "File \u001b[0;32m/opt/conda/lib/python3.11/site-packages/pygbif/occurrences/download.py:271\u001b[0m, in \u001b[0;36mdownload\u001b[0;34m(queries, format, user, pwd, email, pred_type)\u001b[0m\n\u001b[1;32m    268\u001b[0m     \u001b[38;5;28;01mfor\u001b[39;00m predicate \u001b[38;5;129;01min\u001b[39;00m keyval:\n\u001b[1;32m    269\u001b[0m         req\u001b[38;5;241m.\u001b[39madd_predicate_dict(predicate)\n\u001b[0;32m--> 271\u001b[0m out \u001b[38;5;241m=\u001b[39m \u001b[43mreq\u001b[49m\u001b[38;5;241;43m.\u001b[39;49m\u001b[43mpost_download\u001b[49m\u001b[43m(\u001b[49m\u001b[43muser\u001b[49m\u001b[43m,\u001b[49m\u001b[43m \u001b[49m\u001b[43mpwd\u001b[49m\u001b[43m)\u001b[49m\n\u001b[1;32m    272\u001b[0m \u001b[38;5;28;01mreturn\u001b[39;00m out, req\u001b[38;5;241m.\u001b[39mpayload\n",
            "File \u001b[0;32m/opt/conda/lib/python3.11/site-packages/pygbif/occurrences/download.py:482\u001b[0m, in \u001b[0;36mGbifDownload.post_download\u001b[0;34m(self, user, pwd)\u001b[0m\n\u001b[1;32m    475\u001b[0m r \u001b[38;5;241m=\u001b[39m requests\u001b[38;5;241m.\u001b[39mpost(\n\u001b[1;32m    476\u001b[0m     \u001b[38;5;28mself\u001b[39m\u001b[38;5;241m.\u001b[39murl,\n\u001b[1;32m    477\u001b[0m     auth\u001b[38;5;241m=\u001b[39mrequests\u001b[38;5;241m.\u001b[39mauth\u001b[38;5;241m.\u001b[39mHTTPBasicAuth(user, pwd),\n\u001b[1;32m    478\u001b[0m     data\u001b[38;5;241m=\u001b[39mjson\u001b[38;5;241m.\u001b[39mdumps(\u001b[38;5;28mself\u001b[39m\u001b[38;5;241m.\u001b[39mpayload),\n\u001b[1;32m    479\u001b[0m     headers\u001b[38;5;241m=\u001b[39m\u001b[38;5;28mself\u001b[39m\u001b[38;5;241m.\u001b[39mheader,\n\u001b[1;32m    480\u001b[0m )\n\u001b[1;32m    481\u001b[0m \u001b[38;5;28;01mif\u001b[39;00m r\u001b[38;5;241m.\u001b[39mstatus_code \u001b[38;5;241m>\u001b[39m \u001b[38;5;241m203\u001b[39m:\n\u001b[0;32m--> 482\u001b[0m     \u001b[38;5;28;01mraise\u001b[39;00m \u001b[38;5;167;01mException\u001b[39;00m(\n\u001b[1;32m    483\u001b[0m         \u001b[38;5;124m\"\u001b[39m\u001b[38;5;124merror: \u001b[39m\u001b[38;5;124m\"\u001b[39m\n\u001b[1;32m    484\u001b[0m         \u001b[38;5;241m+\u001b[39m r\u001b[38;5;241m.\u001b[39mtext\n\u001b[1;32m    485\u001b[0m         \u001b[38;5;241m+\u001b[39m \u001b[38;5;124m\"\u001b[39m\u001b[38;5;124m, with error status code \u001b[39m\u001b[38;5;124m\"\u001b[39m\n\u001b[1;32m    486\u001b[0m         \u001b[38;5;241m+\u001b[39m \u001b[38;5;28mstr\u001b[39m(r\u001b[38;5;241m.\u001b[39mstatus_code)\n\u001b[1;32m    487\u001b[0m         \u001b[38;5;241m+\u001b[39m \u001b[38;5;124m\"\u001b[39m\u001b[38;5;124mcheck your number of active downloads.\u001b[39m\u001b[38;5;124m\"\u001b[39m\n\u001b[1;32m    488\u001b[0m     )\n\u001b[1;32m    489\u001b[0m \u001b[38;5;28;01melse\u001b[39;00m:\n\u001b[1;32m    490\u001b[0m     \u001b[38;5;28mself\u001b[39m\u001b[38;5;241m.\u001b[39mrequest_id \u001b[38;5;241m=\u001b[39m r\u001b[38;5;241m.\u001b[39mtext\n",
            "\u001b[0;31mException\u001b[0m: error: , with error status code 401check your number of active downloads."
          ]
        }
      ],
      "source": [
        "# Only download once\n",
        "gbif_pattern = os.path.join(gbif_dir, '*.csv')\n",
        "if not glob(gbif_pattern):\n",
        "    # Submit query to GBIF\n",
        "    gbif_query = occ.download([\n",
        "        \"speciesKey = 2482593\",\n",
        "        \"year = 2023\",\n",
        "        \"hasCoordinate = TRUE\",\n",
        "    ])\n",
        "    # Only download once\n",
        "    if not 'GBIF_DOWNLOAD_KEY' in os.environ:\n",
        "        os.environ['GBIF_DOWNLOAD_KEY'] = gbif_query[0]\n",
        "\n",
        "        # Wait for the download to build\n",
        "        wait = occ.download_meta(download_key)['status']\n",
        "        while not wait=='SUCCEEDED':\n",
        "            wait = occ.download_meta(download_key)['status']\n",
        "            time.sleep(5)\n",
        "\n",
        "    # Download GBIF data\n",
        "    download_info = occ.download_get(\n",
        "        os.environ['GBIF_DOWNLOAD_KEY'], \n",
        "        path=data_dir)\n",
        "\n",
        "    # Unzip GBIF data\n",
        "    with zipfile.ZipFile(download_info['path']) as download_zip:\n",
        "        download_zip.extractall(path=gbif_dir)\n",
        "\n",
        "# Find the extracted .csv file path\n",
        "gbif_path = glob(gbif_pattern)[0]"
      ]
    },
    {
      "cell_type": "markdown",
      "id": "90ed1038-74bd-4a87-a50f-1b0abc216277",
      "metadata": {},
      "source": [
        "### Load the GBIF data into Python\n",
        "\n",
        "<link rel=\"stylesheet\" type=\"text/css\" href=\"./assets/styles.css\"><div class=\"callout callout-style-default callout-titled callout-task\"><div class=\"callout-header\"><div class=\"callout-icon-container\"><i class=\"callout-icon\"></i></div><div class=\"callout-title-container flex-fill\">Try It: Load GBIF data</div></div><div class=\"callout-body-container callout-body\"><ol type=\"1\">\n",
        "<li>Look at the beginning of the file you downloaded using the code\n",
        "below. What do you think the <strong>delimiter</strong> is?</li>\n",
        "<li>Run the following code cell. What happens?</li>\n",
        "<li>Uncomment and modify the parameters of <code>pd.read_csv()</code>\n",
        "below until your data loads successfully and you have only the columns\n",
        "you want.</li>\n",
        "</ol></div></div>\n",
        "\n",
        "You can use the following code to look at the beginning of your file:"
      ]
    },
    {
      "cell_type": "code",
      "execution_count": 12,
      "id": "94999229",
      "metadata": {},
      "outputs": [],
      "source": [
        "!head -n 2 $gbif_path "
      ]
    },
    {
      "cell_type": "code",
      "execution_count": 13,
      "id": "88e56065",
      "metadata": {
        "highlight": true
      },
      "outputs": [],
      "source": [
        "# Load the GBIF data\n",
        "gbif_df = pd.read_csv(\n",
        "    gbif_path, \n",
        "    #delimiter='',\n",
        "    #index_col='',\n",
        "    #usecols=[]\n",
        ")\n",
        "gbif_df.head()"
      ]
    }
  ],
  "metadata": {
    "kernelspec": {
      "display_name": "base",
      "language": "python",
      "name": "python3"
    },
    "language_info": {
      "codemirror_mode": {
        "name": "ipython",
        "version": 3
      },
      "file_extension": ".py",
      "mimetype": "text/x-python",
      "name": "python",
      "nbconvert_exporter": "python",
      "pygments_lexer": "ipython3",
      "version": "3.11.6"
    }
  },
  "nbformat": 4,
  "nbformat_minor": 5
}
