{
  "cells": [
    {
      "cell_type": "markdown",
      "id": "19653740-42cf-45a4-b1f0-8c462503e2ff",
      "metadata": {},
      "source": [
        "# Access locations and times of Veery encounters\n",
        "\n",
        "For this challenge, you will use a database called the [Global\n",
        "Biodiversity Information Facility (GBIF)](https://www.gbif.org/). GBIF\n",
        "is compiled from species observation data all over the world, and\n",
        "includes everything from museum specimens to photos taken by citizen\n",
        "scientists in their backyards.\n",
        "\n",
        "<link rel=\"stylesheet\" type=\"text/css\" href=\"./assets/styles.css\"><div class=\"callout callout-style-default callout-titled callout-task\"><div class=\"callout-header\"><div class=\"callout-icon-container\"><i class=\"callout-icon\"></i></div><div class=\"callout-title-container flex-fill\">Try It: Explore GBIF</div></div><div class=\"callout-body-container callout-body\"><p>Before your get started, go to the <a\n",
        "href=\"https://www.gbif.org/occurrence/search\">GBIF occurrences search\n",
        "page</a> and explore the data.</p></div></div>\n",
        "\n",
        "> **Contribute to open data**\n",
        ">\n",
        "> You can get your own observations added to GBIF using\n",
        "> [iNaturalist](https://www.inaturalist.org/)!\n",
        "\n",
        "### Set up your code to prepare for download\n",
        "\n",
        "We will be getting data from a source called [GBIF (Global Biodiversity\n",
        "Information Facility)](https://www.gbif.org/). We need a package called\n",
        "`pygbif` to access the data, which may not be included in your\n",
        "environment. Install it by running the cell below:"
      ]
    },
    {
      "cell_type": "code",
      "execution_count": 16,
      "id": "75e6717e",
      "metadata": {},
      "outputs": [
        {
          "name": "stdout",
          "output_type": "stream",
          "text": [
            "Requirement already satisfied: pygbif in /opt/conda/lib/python3.11/site-packages (0.6.4)\n",
            "Requirement already satisfied: requests>2.7 in /opt/conda/lib/python3.11/site-packages (from pygbif) (2.32.3)\n",
            "Requirement already satisfied: requests-cache in /opt/conda/lib/python3.11/site-packages (from pygbif) (1.2.1)\n",
            "Requirement already satisfied: geojson-rewind in /opt/conda/lib/python3.11/site-packages (from pygbif) (1.1.0)\n",
            "Requirement already satisfied: geomet in /opt/conda/lib/python3.11/site-packages (from pygbif) (1.1.0)\n",
            "Requirement already satisfied: appdirs>=1.4.3 in /opt/conda/lib/python3.11/site-packages (from pygbif) (1.4.4)\n",
            "Requirement already satisfied: matplotlib in /opt/conda/lib/python3.11/site-packages (from pygbif) (3.9.2)\n",
            "Requirement already satisfied: charset-normalizer<4,>=2 in /opt/conda/lib/python3.11/site-packages (from requests>2.7->pygbif) (3.3.2)\n",
            "Requirement already satisfied: idna<4,>=2.5 in /opt/conda/lib/python3.11/site-packages (from requests>2.7->pygbif) (3.10)\n",
            "Requirement already satisfied: urllib3<3,>=1.21.1 in /opt/conda/lib/python3.11/site-packages (from requests>2.7->pygbif) (2.2.3)\n",
            "Requirement already satisfied: certifi>=2017.4.17 in /opt/conda/lib/python3.11/site-packages (from requests>2.7->pygbif) (2024.8.30)\n",
            "Requirement already satisfied: click in /opt/conda/lib/python3.11/site-packages (from geomet->pygbif) (8.1.7)\n",
            "Requirement already satisfied: contourpy>=1.0.1 in /opt/conda/lib/python3.11/site-packages (from matplotlib->pygbif) (1.3.0)\n",
            "Requirement already satisfied: cycler>=0.10 in /opt/conda/lib/python3.11/site-packages (from matplotlib->pygbif) (0.12.1)\n",
            "Requirement already satisfied: fonttools>=4.22.0 in /opt/conda/lib/python3.11/site-packages (from matplotlib->pygbif) (4.54.1)\n",
            "Requirement already satisfied: kiwisolver>=1.3.1 in /opt/conda/lib/python3.11/site-packages (from matplotlib->pygbif) (1.4.7)\n",
            "Requirement already satisfied: numpy>=1.23 in /opt/conda/lib/python3.11/site-packages (from matplotlib->pygbif) (2.0.2)\n",
            "Requirement already satisfied: packaging>=20.0 in /opt/conda/lib/python3.11/site-packages (from matplotlib->pygbif) (24.1)\n",
            "Requirement already satisfied: pillow>=8 in /opt/conda/lib/python3.11/site-packages (from matplotlib->pygbif) (10.4.0)\n",
            "Requirement already satisfied: pyparsing>=2.3.1 in /opt/conda/lib/python3.11/site-packages (from matplotlib->pygbif) (3.1.4)\n",
            "Requirement already satisfied: python-dateutil>=2.7 in /opt/conda/lib/python3.11/site-packages (from matplotlib->pygbif) (2.9.0)\n",
            "Requirement already satisfied: attrs>=21.2 in /opt/conda/lib/python3.11/site-packages (from requests-cache->pygbif) (24.2.0)\n",
            "Requirement already satisfied: cattrs>=22.2 in /opt/conda/lib/python3.11/site-packages (from requests-cache->pygbif) (24.1.2)\n",
            "Requirement already satisfied: platformdirs>=2.5 in /opt/conda/lib/python3.11/site-packages (from requests-cache->pygbif) (4.3.6)\n",
            "Requirement already satisfied: url-normalize>=1.4 in /opt/conda/lib/python3.11/site-packages (from requests-cache->pygbif) (1.4.3)\n",
            "Requirement already satisfied: six>=1.5 in /opt/conda/lib/python3.11/site-packages (from python-dateutil>=2.7->matplotlib->pygbif) (1.16.0)\n"
          ]
        }
      ],
      "source": [
        "%%bash\n",
        "pip install pygbif"
      ]
    },
    {
      "cell_type": "markdown",
      "id": "c91260a6-877a-4a6a-825b-6bdf9dcb0a6a",
      "metadata": {},
      "source": [
        "<link rel=\"stylesheet\" type=\"text/css\" href=\"./assets/styles.css\"><div class=\"callout callout-style-default callout-titled callout-task\"><div class=\"callout-header\"><div class=\"callout-icon-container\"><i class=\"callout-icon\"></i></div><div class=\"callout-title-container flex-fill\">Try It: Import packages</div></div><div class=\"callout-body-container callout-body\"><p>In the imports cell, we’ve included some packages that you will need.\n",
        "Add imports for packages that will help you:</p>\n",
        "<ol type=\"1\">\n",
        "<li>Work with reproducible file paths</li>\n",
        "<li>Work with tabular data</li>\n",
        "</ol></div></div>"
      ]
    },
    {
      "cell_type": "code",
      "execution_count": 17,
      "id": "601c7278",
      "metadata": {
        "highlight": true
      },
      "outputs": [],
      "source": [
        "import pandas as pd\n",
        "import os\n",
        "import pathlib\n",
        "\n",
        "import time\n",
        "import zipfile\n",
        "from getpass import getpass\n",
        "from glob import glob\n",
        "\n",
        "import pygbif.occurrences as occ\n",
        "import pygbif.species as species"
      ]
    },
    {
      "cell_type": "code",
      "execution_count": 18,
      "id": "9cf408e1",
      "metadata": {
        "highlight": true
      },
      "outputs": [],
      "source": [
        "# Create data directory in the home folder\n",
        "data_dir = os.path.join(\n",
        "    # Home directory\n",
        "    pathlib.Path.home(),\n",
        "    # Earth analytics data directory\n",
        "    'earth-analytics',\n",
        "    'data',\n",
        "    # Project directory\n",
        "    'blue-jay-migration',\n",
        ")\n",
        "os.makedirs(data_dir, exist_ok=True)\n",
        "\n",
        "# Define the directory name for GBIF data, create directory\n",
        "gbif_dir = os.path.join(data_dir, 'blue-jay-gbif')\n",
        "\n",
        "os.makedirs(gbif_dir, exist_ok=True)\n",
        "\n",
        "gbif_path = os.path.join(gbif_dir, 'blue-jay.csv')"
      ]
    },
    {
      "cell_type": "code",
      "execution_count": 19,
      "id": "b98eb2df",
      "metadata": {},
      "outputs": [
        {
          "name": "stdout",
          "output_type": "stream",
          "text": [
            "/home/jovyan/earth-analytics/data/blue-jay-migration/\n",
            "/home/jovyan/earth-analytics/data/blue-jay-migration/blue-jay-gbif\n"
          ]
        }
      ],
      "source": [
        "%%bash\n",
        "find ~/earth-analytics/data/blue-jay-migration/"
      ]
    },
    {
      "cell_type": "markdown",
      "id": "2583a48e-621d-42a3-83ca-503c05db41bc",
      "metadata": {},
      "source": [
        ":::\n",
        "\n",
        "### Register and log in to GBIF\n",
        "\n",
        "You will need a [GBIF account](https://www.gbif.org/) to complete this\n",
        "challenge. You can use your GitHub account to authenticate with GBIF.\n",
        "Then, run the following code to save your credentials on your computer.\n",
        "\n",
        "> **Warning**\n",
        ">\n",
        "> Your email address **must** match the email you used to sign up for\n",
        "> GBIF!\n",
        "\n",
        "> **Tip**\n",
        ">\n",
        "> If you accidentally enter your credentials wrong, you can set\n",
        "> `reset_credentials=True` instead of `reset_credentials=False`."
      ]
    },
    {
      "cell_type": "code",
      "execution_count": 27,
      "id": "989f737e",
      "metadata": {},
      "outputs": [],
      "source": [
        "reset_credentials = False\n",
        "# GBIF needs a username, password, and email\n",
        "credentials = dict(\n",
        "    GBIF_USER=(input, 'username'),\n",
        "    GBIF_PWD=(getpass, 'password'),\n",
        "    GBIF_EMAIL=(input, 'email'),\n",
        ")\n",
        "for env_variable, (prompt_func, prompt_text) in credentials.items():\n",
        "    # Delete credential from environment if requested\n",
        "    if reset_credentials and (env_variable in os.environ):\n",
        "        os.environ.pop(env_variable)\n",
        "    # Ask for credential and save to environment\n",
        "    if not env_variable in os.environ:\n",
        "        os.environ[env_variable] = prompt_func(prompt_text)"
      ]
    },
    {
      "cell_type": "code",
      "execution_count": 26,
      "id": "b864b2c1",
      "metadata": {},
      "outputs": [
        {
          "name": "stdout",
          "output_type": "stream",
          "text": [
            "hannah.rieder\n"
          ]
        }
      ],
      "source": [
        "%%bash\n",
        "echo $GBIF_USER"
      ]
    },
    {
      "cell_type": "markdown",
      "id": "8b3d472f-2079-4eb9-9454-6ee95c40c2e7",
      "metadata": {},
      "source": [
        "### Get the species key\n",
        "\n",
        "> ** Your task**\n",
        ">\n",
        "> 1.  Replace the `species_name` with the name of the species you want\n",
        ">     to look up\n",
        "> 2.  Run the code to get the species key"
      ]
    },
    {
      "cell_type": "code",
      "execution_count": 28,
      "id": "90a15d5c",
      "metadata": {
        "highlight": true
      },
      "outputs": [
        {
          "data": {
            "text/plain": [
              "{'key': 168007494,\n",
              " 'datasetKey': 'a6c6cead-b5ce-4a4e-8cf5-1542ba708dec',\n",
              " 'nubKey': 2482593,\n",
              " 'parentKey': 168007493,\n",
              " 'parent': 'Cyanocitta',\n",
              " 'kingdom': 'Animalia',\n",
              " 'phylum': 'Chordata',\n",
              " 'order': 'Passeriformes',\n",
              " 'family': 'Corvidae',\n",
              " 'genus': 'Cyanocitta',\n",
              " 'species': 'Cyanocitta cristata',\n",
              " 'kingdomKey': 167920784,\n",
              " 'phylumKey': 168001715,\n",
              " 'classKey': 168003099,\n",
              " 'orderKey': 168005163,\n",
              " 'familyKey': 168007364,\n",
              " 'genusKey': 168007493,\n",
              " 'speciesKey': 168007494,\n",
              " 'scientificName': 'Cyanocitta cristata',\n",
              " 'canonicalName': 'Cyanocitta cristata',\n",
              " 'nameType': 'SCIENTIFIC',\n",
              " 'taxonomicStatus': 'ACCEPTED',\n",
              " 'rank': 'SPECIES',\n",
              " 'origin': 'SOURCE',\n",
              " 'numDescendants': 0,\n",
              " 'numOccurrences': 0,\n",
              " 'habitats': [],\n",
              " 'nomenclaturalStatus': [],\n",
              " 'threatStatuses': [],\n",
              " 'descriptions': [],\n",
              " 'vernacularNames': [{'vernacularName': 'blåskrike', 'language': 'nob'}],\n",
              " 'higherClassificationMap': {'167920784': 'Animalia',\n",
              "  '168001715': 'Chordata',\n",
              "  '168003099': 'Aves',\n",
              "  '168005163': 'Passeriformes',\n",
              "  '168007364': 'Corvidae',\n",
              "  '168007493': 'Cyanocitta'},\n",
              " 'synonym': False,\n",
              " 'class': 'Aves'}"
            ]
          },
          "execution_count": 28,
          "metadata": {},
          "output_type": "execute_result"
        }
      ],
      "source": [
        "# Query species\n",
        "species_info = species.name_lookup('Cyanocitta cristata', rank='species')\n",
        "\n",
        "# Get the first result\n",
        "first_result = species_info['results'][0]\n",
        "first_result"
      ]
    },
    {
      "cell_type": "code",
      "execution_count": 29,
      "id": "410f40f4",
      "metadata": {},
      "outputs": [
        {
          "data": {
            "text/plain": [
              "2482593"
            ]
          },
          "execution_count": 29,
          "metadata": {},
          "output_type": "execute_result"
        }
      ],
      "source": [
        "# Get the species key (nubKey)\n",
        "species_key = first_result['nubKey']\n",
        "species_key"
      ]
    },
    {
      "cell_type": "code",
      "execution_count": 30,
      "id": "69b4f992",
      "metadata": {},
      "outputs": [
        {
          "data": {
            "text/plain": [
              "('Cyanocitta cristata', 2482593)"
            ]
          },
          "execution_count": 30,
          "metadata": {},
          "output_type": "execute_result"
        }
      ],
      "source": [
        "# Check the result\n",
        "first_result['species'], species_key"
      ]
    },
    {
      "cell_type": "markdown",
      "id": "28bfdb8b-fb88-4c48-befd-ca078f5e2c0d",
      "metadata": {},
      "source": [
        "### Download data from GBIF\n",
        "\n",
        "::: {.callout-task title=“Submit a request to GBIF”\n",
        "\n",
        "1.  Replace `csv_file_pattern` with a string that will match **any**\n",
        "    `.csv` file when used in the `glob` function. HINT: the character\n",
        "    `*` represents any number of any values except the file separator\n",
        "    (e.g. `/`)\n",
        "\n",
        "2.  Add parameters to the GBIF download function, `occ.download()` to\n",
        "    limit your query to:\n",
        "\n",
        "    -   observations\n",
        "    -   from 2023\n",
        "    -   with spatial coordinates.\n",
        "\n",
        "3.  Then, run the download. **This can take a few minutes**. :::"
      ]
    },
    {
      "cell_type": "code",
      "execution_count": 32,
      "id": "5c310666",
      "metadata": {},
      "outputs": [],
      "source": [
        "\n",
        "os.environ['GBIF_DOWNLOAD_KEY'] = '0003394-241007104925546'\n"
      ]
    },
    {
      "cell_type": "code",
      "execution_count": 34,
      "id": "0bdc80c5",
      "metadata": {
        "highlight": true
      },
      "outputs": [
        {
          "name": "stderr",
          "output_type": "stream",
          "text": [
            "INFO:Download file size: 304308872 bytes\n",
            "INFO:On disk at /home/jovyan/earth-analytics/data/blue-jay-migration/0003394-241007104925546.zip\n"
          ]
        }
      ],
      "source": [
        "# Only download once\n",
        "gbif_pattern = os.path.join(gbif_dir, '*.csv')\n",
        "if not glob(gbif_pattern):\n",
        "    # Submit query to GBIF\n",
        "    # Only download once\n",
        "    if not 'GBIF_DOWNLOAD_KEY' in os.environ:\n",
        "        gbif_query = occ.download([\n",
        "            \"speciesKey = 2482593\",\n",
        "            \"year = 2023\",\n",
        "            \"hasCoordinate = TRUE\",\n",
        "        ])\n",
        "        download_key = gbif_query[0]\n",
        "        os.environ['GBIF_DOWNLOAD_KEY'] = gbif_query[0]\n",
        "    else: \n",
        "        download_key = os.environ['GBIF_DOWNLOAD_KEY']\n",
        "\n",
        "    # Wait for the download to build\n",
        "    wait = occ.download_meta(download_key)['status']\n",
        "    while not wait=='SUCCEEDED':\n",
        "        wait = occ.download_meta(download_key)['status']\n",
        "        time.sleep(5)\n",
        "\n",
        "    # Download GBIF data\n",
        "    download_info = occ.download_get(\n",
        "        os.environ['GBIF_DOWNLOAD_KEY'], \n",
        "        path=data_dir)\n",
        "\n",
        "    # Unzip GBIF data\n",
        "    with zipfile.ZipFile(download_info['path']) as download_zip:\n",
        "        download_zip.extractall(path=gbif_dir)\n",
        "\n",
        "# Find the extracted .csv file path\n",
        "gbif_path = glob(gbif_pattern)[0]"
      ]
    },
    {
      "cell_type": "markdown",
      "id": "90ed1038-74bd-4a87-a50f-1b0abc216277",
      "metadata": {},
      "source": [
        "### Load the GBIF data into Python\n",
        "\n",
        "<link rel=\"stylesheet\" type=\"text/css\" href=\"./assets/styles.css\"><div class=\"callout callout-style-default callout-titled callout-task\"><div class=\"callout-header\"><div class=\"callout-icon-container\"><i class=\"callout-icon\"></i></div><div class=\"callout-title-container flex-fill\">Try It: Load GBIF data</div></div><div class=\"callout-body-container callout-body\"><ol type=\"1\">\n",
        "<li>Look at the beginning of the file you downloaded using the code\n",
        "below. What do you think the <strong>delimiter</strong> is?</li>\n",
        "<li>Run the following code cell. What happens?</li>\n",
        "<li>Uncomment and modify the parameters of <code>pd.read_csv()</code>\n",
        "below until your data loads successfully and you have only the columns\n",
        "you want.</li>\n",
        "</ol></div></div>\n",
        "\n",
        "You can use the following code to look at the beginning of your file:"
      ]
    },
    {
      "cell_type": "code",
      "execution_count": 35,
      "id": "94999229",
      "metadata": {},
      "outputs": [
        {
          "name": "stdout",
          "output_type": "stream",
          "text": [
            "gbifID\tdatasetKey\toccurrenceID\tkingdom\tphylum\tclass\torder\tfamily\tgenus\tspecies\tinfraspecificEpithet\ttaxonRank\tscientificName\tverbatimScientificName\tverbatimScientificNameAuthorship\tcountryCode\tlocality\tstateProvince\toccurrenceStatus\tindividualCount\tpublishingOrgKey\tdecimalLatitude\tdecimalLongitude\tcoordinateUncertaintyInMeters\tcoordinatePrecision\televation\televationAccuracy\tdepth\tdepthAccuracy\teventDate\tday\tmonth\tyear\ttaxonKey\tspeciesKey\tbasisOfRecord\tinstitutionCode\tcollectionCode\tcatalogNumber\trecordNumber\tidentifiedBy\tdateIdentified\tlicense\trightsHolder\trecordedBy\ttypeStatus\testablishmentMeans\tlastInterpreted\tmediaType\tissue\n",
            "4686102821\t4fa7b334-ce0d-4e88-aaae-2e0c138d049e\tURN:catalog:CLO:EBIRD:OBS1601518595\tAnimalia\tChordata\tAves\tPasseriformes\tCorvidae\tCyanocitta\tCyanocitta cristata\t\tSPECIES\tCyanocitta cristata (Linnaeus, 1758)\tCyanocitta cristata\t\tUS\tHartman Reserve Nature Center\tIowa\tPRESENT\t1\te2e717bf-551a-4917-bdc9-4fa0f342c530\t42.52484\t-92.41017\t\t\t\t\t\t\t2023-01-08\t8\t1\t2023\t2482593\t2482593\tHUMAN_OBSERVATION\tCLO\tEBIRD\tOBS1601518595\t\t\t\tCC_BY_4_0\t\tobsr161094\t\t\t2024-04-17T08:37:55.726Z\t\tCONTINENT_DERIVED_FROM_COORDINATES;TAXON_MATCH_TAXON_CONCEPT_ID_IGNORED\n"
          ]
        }
      ],
      "source": [
        "!head -n 2 $gbif_path "
      ]
    },
    {
      "cell_type": "code",
      "execution_count": 36,
      "id": "88e56065",
      "metadata": {
        "highlight": true
      },
      "outputs": [
        {
          "ename": "ParserError",
          "evalue": "Error tokenizing data. C error: Expected 2 fields in line 6, saw 3\n",
          "output_type": "error",
          "traceback": [
            "\u001b[0;31m---------------------------------------------------------------------------\u001b[0m",
            "\u001b[0;31mParserError\u001b[0m                               Traceback (most recent call last)",
            "Cell \u001b[0;32mIn[36], line 2\u001b[0m\n\u001b[1;32m      1\u001b[0m \u001b[38;5;66;03m# Load the GBIF data\u001b[39;00m\n\u001b[0;32m----> 2\u001b[0m gbif_df \u001b[38;5;241m=\u001b[39m \u001b[43mpd\u001b[49m\u001b[38;5;241;43m.\u001b[39;49m\u001b[43mread_csv\u001b[49m\u001b[43m(\u001b[49m\n\u001b[1;32m      3\u001b[0m \u001b[43m    \u001b[49m\u001b[43mgbif_path\u001b[49m\u001b[43m,\u001b[49m\u001b[43m \u001b[49m\n\u001b[1;32m      4\u001b[0m \u001b[43m    \u001b[49m\u001b[38;5;66;43;03m#delimiter='',\u001b[39;49;00m\n\u001b[1;32m      5\u001b[0m \u001b[43m    \u001b[49m\u001b[38;5;66;43;03m#index_col='',\u001b[39;49;00m\n\u001b[1;32m      6\u001b[0m \u001b[43m    \u001b[49m\u001b[38;5;66;43;03m#usecols=[]\u001b[39;49;00m\n\u001b[1;32m      7\u001b[0m \u001b[43m)\u001b[49m\n\u001b[1;32m      8\u001b[0m gbif_df\u001b[38;5;241m.\u001b[39mhead()\n",
            "File \u001b[0;32m/opt/conda/lib/python3.11/site-packages/pandas/io/parsers/readers.py:1026\u001b[0m, in \u001b[0;36mread_csv\u001b[0;34m(filepath_or_buffer, sep, delimiter, header, names, index_col, usecols, dtype, engine, converters, true_values, false_values, skipinitialspace, skiprows, skipfooter, nrows, na_values, keep_default_na, na_filter, verbose, skip_blank_lines, parse_dates, infer_datetime_format, keep_date_col, date_parser, date_format, dayfirst, cache_dates, iterator, chunksize, compression, thousands, decimal, lineterminator, quotechar, quoting, doublequote, escapechar, comment, encoding, encoding_errors, dialect, on_bad_lines, delim_whitespace, low_memory, memory_map, float_precision, storage_options, dtype_backend)\u001b[0m\n\u001b[1;32m   1013\u001b[0m kwds_defaults \u001b[38;5;241m=\u001b[39m _refine_defaults_read(\n\u001b[1;32m   1014\u001b[0m     dialect,\n\u001b[1;32m   1015\u001b[0m     delimiter,\n\u001b[0;32m   (...)\u001b[0m\n\u001b[1;32m   1022\u001b[0m     dtype_backend\u001b[38;5;241m=\u001b[39mdtype_backend,\n\u001b[1;32m   1023\u001b[0m )\n\u001b[1;32m   1024\u001b[0m kwds\u001b[38;5;241m.\u001b[39mupdate(kwds_defaults)\n\u001b[0;32m-> 1026\u001b[0m \u001b[38;5;28;01mreturn\u001b[39;00m \u001b[43m_read\u001b[49m\u001b[43m(\u001b[49m\u001b[43mfilepath_or_buffer\u001b[49m\u001b[43m,\u001b[49m\u001b[43m \u001b[49m\u001b[43mkwds\u001b[49m\u001b[43m)\u001b[49m\n",
            "File \u001b[0;32m/opt/conda/lib/python3.11/site-packages/pandas/io/parsers/readers.py:626\u001b[0m, in \u001b[0;36m_read\u001b[0;34m(filepath_or_buffer, kwds)\u001b[0m\n\u001b[1;32m    623\u001b[0m     \u001b[38;5;28;01mreturn\u001b[39;00m parser\n\u001b[1;32m    625\u001b[0m \u001b[38;5;28;01mwith\u001b[39;00m parser:\n\u001b[0;32m--> 626\u001b[0m     \u001b[38;5;28;01mreturn\u001b[39;00m \u001b[43mparser\u001b[49m\u001b[38;5;241;43m.\u001b[39;49m\u001b[43mread\u001b[49m\u001b[43m(\u001b[49m\u001b[43mnrows\u001b[49m\u001b[43m)\u001b[49m\n",
            "File \u001b[0;32m/opt/conda/lib/python3.11/site-packages/pandas/io/parsers/readers.py:1923\u001b[0m, in \u001b[0;36mTextFileReader.read\u001b[0;34m(self, nrows)\u001b[0m\n\u001b[1;32m   1916\u001b[0m nrows \u001b[38;5;241m=\u001b[39m validate_integer(\u001b[38;5;124m\"\u001b[39m\u001b[38;5;124mnrows\u001b[39m\u001b[38;5;124m\"\u001b[39m, nrows)\n\u001b[1;32m   1917\u001b[0m \u001b[38;5;28;01mtry\u001b[39;00m:\n\u001b[1;32m   1918\u001b[0m     \u001b[38;5;66;03m# error: \"ParserBase\" has no attribute \"read\"\u001b[39;00m\n\u001b[1;32m   1919\u001b[0m     (\n\u001b[1;32m   1920\u001b[0m         index,\n\u001b[1;32m   1921\u001b[0m         columns,\n\u001b[1;32m   1922\u001b[0m         col_dict,\n\u001b[0;32m-> 1923\u001b[0m     ) \u001b[38;5;241m=\u001b[39m \u001b[38;5;28;43mself\u001b[39;49m\u001b[38;5;241;43m.\u001b[39;49m\u001b[43m_engine\u001b[49m\u001b[38;5;241;43m.\u001b[39;49m\u001b[43mread\u001b[49m\u001b[43m(\u001b[49m\u001b[43m  \u001b[49m\u001b[38;5;66;43;03m# type: ignore[attr-defined]\u001b[39;49;00m\n\u001b[1;32m   1924\u001b[0m \u001b[43m        \u001b[49m\u001b[43mnrows\u001b[49m\n\u001b[1;32m   1925\u001b[0m \u001b[43m    \u001b[49m\u001b[43m)\u001b[49m\n\u001b[1;32m   1926\u001b[0m \u001b[38;5;28;01mexcept\u001b[39;00m \u001b[38;5;167;01mException\u001b[39;00m:\n\u001b[1;32m   1927\u001b[0m     \u001b[38;5;28mself\u001b[39m\u001b[38;5;241m.\u001b[39mclose()\n",
            "File \u001b[0;32m/opt/conda/lib/python3.11/site-packages/pandas/io/parsers/c_parser_wrapper.py:234\u001b[0m, in \u001b[0;36mCParserWrapper.read\u001b[0;34m(self, nrows)\u001b[0m\n\u001b[1;32m    232\u001b[0m \u001b[38;5;28;01mtry\u001b[39;00m:\n\u001b[1;32m    233\u001b[0m     \u001b[38;5;28;01mif\u001b[39;00m \u001b[38;5;28mself\u001b[39m\u001b[38;5;241m.\u001b[39mlow_memory:\n\u001b[0;32m--> 234\u001b[0m         chunks \u001b[38;5;241m=\u001b[39m \u001b[38;5;28;43mself\u001b[39;49m\u001b[38;5;241;43m.\u001b[39;49m\u001b[43m_reader\u001b[49m\u001b[38;5;241;43m.\u001b[39;49m\u001b[43mread_low_memory\u001b[49m\u001b[43m(\u001b[49m\u001b[43mnrows\u001b[49m\u001b[43m)\u001b[49m\n\u001b[1;32m    235\u001b[0m         \u001b[38;5;66;03m# destructive to chunks\u001b[39;00m\n\u001b[1;32m    236\u001b[0m         data \u001b[38;5;241m=\u001b[39m _concatenate_chunks(chunks)\n",
            "File \u001b[0;32mparsers.pyx:838\u001b[0m, in \u001b[0;36mpandas._libs.parsers.TextReader.read_low_memory\u001b[0;34m()\u001b[0m\n",
            "File \u001b[0;32mparsers.pyx:905\u001b[0m, in \u001b[0;36mpandas._libs.parsers.TextReader._read_rows\u001b[0;34m()\u001b[0m\n",
            "File \u001b[0;32mparsers.pyx:874\u001b[0m, in \u001b[0;36mpandas._libs.parsers.TextReader._tokenize_rows\u001b[0;34m()\u001b[0m\n",
            "File \u001b[0;32mparsers.pyx:891\u001b[0m, in \u001b[0;36mpandas._libs.parsers.TextReader._check_tokenize_status\u001b[0;34m()\u001b[0m\n",
            "File \u001b[0;32mparsers.pyx:2061\u001b[0m, in \u001b[0;36mpandas._libs.parsers.raise_parser_error\u001b[0;34m()\u001b[0m\n",
            "\u001b[0;31mParserError\u001b[0m: Error tokenizing data. C error: Expected 2 fields in line 6, saw 3\n"
          ]
        }
      ],
      "source": [
        "# Load the GBIF data\n",
        "gbif_df = pd.read_csv(\n",
        "    gbif_path, \n",
        "    #delimiter='',\n",
        "    #index_col='',\n",
        "    #usecols=[]\n",
        ")\n",
        "gbif_df.head()"
      ]
    }
  ],
  "metadata": {
    "kernelspec": {
      "display_name": "base",
      "language": "python",
      "name": "python3"
    },
    "language_info": {
      "codemirror_mode": {
        "name": "ipython",
        "version": 3
      },
      "file_extension": ".py",
      "mimetype": "text/x-python",
      "name": "python",
      "nbconvert_exporter": "python",
      "pygments_lexer": "ipython3",
      "version": "3.11.6"
    }
  },
  "nbformat": 4,
  "nbformat_minor": 5
}
