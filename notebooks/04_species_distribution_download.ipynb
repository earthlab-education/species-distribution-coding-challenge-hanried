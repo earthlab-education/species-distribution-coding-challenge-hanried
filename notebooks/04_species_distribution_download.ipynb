{
  "cells": [
    {
      "cell_type": "markdown",
      "id": "19653740-42cf-45a4-b1f0-8c462503e2ff",
      "metadata": {},
      "source": [
        "# Access locations and times of Veery encounters\n",
        "\n",
        "For this challenge, you will use a database called the [Global\n",
        "Biodiversity Information Facility (GBIF)](https://www.gbif.org/). GBIF\n",
        "is compiled from species observation data all over the world, and\n",
        "includes everything from museum specimens to photos taken by citizen\n",
        "scientists in their backyards.\n",
        "\n",
        "<link rel=\"stylesheet\" type=\"text/css\" href=\"./assets/styles.css\"><div class=\"callout callout-style-default callout-titled callout-task\"><div class=\"callout-header\"><div class=\"callout-icon-container\"><i class=\"callout-icon\"></i></div><div class=\"callout-title-container flex-fill\">Try It: Explore GBIF</div></div><div class=\"callout-body-container callout-body\"><p>Before your get started, go to the <a\n",
        "href=\"https://www.gbif.org/occurrence/search\">GBIF occurrences search\n",
        "page</a> and explore the data.</p></div></div>\n",
        "\n",
        "> **Contribute to open data**\n",
        ">\n",
        "> You can get your own observations added to GBIF using\n",
        "> [iNaturalist](https://www.inaturalist.org/)!\n",
        "\n",
        "### Set up your code to prepare for download\n",
        "\n",
        "We will be getting data from a source called [GBIF (Global Biodiversity\n",
        "Information Facility)](https://www.gbif.org/). We need a package called\n",
        "`pygbif` to access the data, which may not be included in your\n",
        "environment. Install it by running the cell below:"
      ]
    },
    {
      "cell_type": "code",
      "execution_count": 1,
      "id": "75e6717e",
      "metadata": {},
      "outputs": [
        {
          "name": "stdout",
          "output_type": "stream",
          "text": [
            "Requirement already satisfied: pygbif in /opt/conda/lib/python3.11/site-packages (0.6.4)\n",
            "Requirement already satisfied: requests>2.7 in /opt/conda/lib/python3.11/site-packages (from pygbif) (2.32.3)\n",
            "Requirement already satisfied: requests-cache in /opt/conda/lib/python3.11/site-packages (from pygbif) (1.2.1)\n",
            "Requirement already satisfied: geojson-rewind in /opt/conda/lib/python3.11/site-packages (from pygbif) (1.1.0)\n",
            "Requirement already satisfied: geomet in /opt/conda/lib/python3.11/site-packages (from pygbif) (1.1.0)\n",
            "Requirement already satisfied: appdirs>=1.4.3 in /opt/conda/lib/python3.11/site-packages (from pygbif) (1.4.4)\n",
            "Requirement already satisfied: matplotlib in /opt/conda/lib/python3.11/site-packages (from pygbif) (3.9.2)\n",
            "Requirement already satisfied: charset-normalizer<4,>=2 in /opt/conda/lib/python3.11/site-packages (from requests>2.7->pygbif) (3.3.2)\n",
            "Requirement already satisfied: idna<4,>=2.5 in /opt/conda/lib/python3.11/site-packages (from requests>2.7->pygbif) (3.10)\n",
            "Requirement already satisfied: urllib3<3,>=1.21.1 in /opt/conda/lib/python3.11/site-packages (from requests>2.7->pygbif) (2.2.3)\n",
            "Requirement already satisfied: certifi>=2017.4.17 in /opt/conda/lib/python3.11/site-packages (from requests>2.7->pygbif) (2024.8.30)\n",
            "Requirement already satisfied: click in /opt/conda/lib/python3.11/site-packages (from geomet->pygbif) (8.1.7)\n",
            "Requirement already satisfied: contourpy>=1.0.1 in /opt/conda/lib/python3.11/site-packages (from matplotlib->pygbif) (1.3.0)\n",
            "Requirement already satisfied: cycler>=0.10 in /opt/conda/lib/python3.11/site-packages (from matplotlib->pygbif) (0.12.1)\n",
            "Requirement already satisfied: fonttools>=4.22.0 in /opt/conda/lib/python3.11/site-packages (from matplotlib->pygbif) (4.54.1)\n",
            "Requirement already satisfied: kiwisolver>=1.3.1 in /opt/conda/lib/python3.11/site-packages (from matplotlib->pygbif) (1.4.7)\n",
            "Requirement already satisfied: numpy>=1.23 in /opt/conda/lib/python3.11/site-packages (from matplotlib->pygbif) (2.0.2)\n",
            "Requirement already satisfied: packaging>=20.0 in /opt/conda/lib/python3.11/site-packages (from matplotlib->pygbif) (24.1)\n",
            "Requirement already satisfied: pillow>=8 in /opt/conda/lib/python3.11/site-packages (from matplotlib->pygbif) (10.4.0)\n",
            "Requirement already satisfied: pyparsing>=2.3.1 in /opt/conda/lib/python3.11/site-packages (from matplotlib->pygbif) (3.1.4)\n",
            "Requirement already satisfied: python-dateutil>=2.7 in /opt/conda/lib/python3.11/site-packages (from matplotlib->pygbif) (2.9.0)\n",
            "Requirement already satisfied: attrs>=21.2 in /opt/conda/lib/python3.11/site-packages (from requests-cache->pygbif) (24.2.0)\n",
            "Requirement already satisfied: cattrs>=22.2 in /opt/conda/lib/python3.11/site-packages (from requests-cache->pygbif) (24.1.2)\n",
            "Requirement already satisfied: platformdirs>=2.5 in /opt/conda/lib/python3.11/site-packages (from requests-cache->pygbif) (4.3.6)\n",
            "Requirement already satisfied: url-normalize>=1.4 in /opt/conda/lib/python3.11/site-packages (from requests-cache->pygbif) (1.4.3)\n",
            "Requirement already satisfied: six>=1.5 in /opt/conda/lib/python3.11/site-packages (from python-dateutil>=2.7->matplotlib->pygbif) (1.16.0)\n"
          ]
        }
      ],
      "source": [
        "%%bash\n",
        "pip install pygbif"
      ]
    },
    {
      "cell_type": "markdown",
      "id": "c91260a6-877a-4a6a-825b-6bdf9dcb0a6a",
      "metadata": {},
      "source": [
        "<link rel=\"stylesheet\" type=\"text/css\" href=\"./assets/styles.css\"><div class=\"callout callout-style-default callout-titled callout-task\"><div class=\"callout-header\"><div class=\"callout-icon-container\"><i class=\"callout-icon\"></i></div><div class=\"callout-title-container flex-fill\">Try It: Import packages</div></div><div class=\"callout-body-container callout-body\"><p>In the imports cell, we’ve included some packages that you will need.\n",
        "Add imports for packages that will help you:</p>\n",
        "<ol type=\"1\">\n",
        "<li>Work with reproducible file paths</li>\n",
        "<li>Work with tabular data</li>\n",
        "</ol></div></div>"
      ]
    },
    {
      "cell_type": "code",
      "execution_count": 2,
      "id": "601c7278",
      "metadata": {
        "highlight": true
      },
      "outputs": [],
      "source": [
        "import pandas as pd\n",
        "import geopandas as gpd\n",
        "import os\n",
        "import pathlib\n",
        "\n",
        "import time\n",
        "import zipfile\n",
        "from getpass import getpass\n",
        "from glob import glob\n",
        "\n",
        "import pygbif.occurrences as occ\n",
        "import pygbif.species as species"
      ]
    },
    {
      "cell_type": "code",
      "execution_count": 3,
      "id": "9cf408e1",
      "metadata": {
        "highlight": true
      },
      "outputs": [],
      "source": [
        "# Create data directory in the home folder\n",
        "data_dir = os.path.join(\n",
        "    # Home directory\n",
        "    pathlib.Path.home(),\n",
        "    # Earth analytics data directory\n",
        "    'earth-analytics',\n",
        "    'data',\n",
        "    # Project directory\n",
        "    'blue-jay-migration',\n",
        ")\n",
        "os.makedirs(data_dir, exist_ok=True)\n",
        "\n",
        "# Define the directory name for GBIF data, create directory\n",
        "gbif_dir = os.path.join(data_dir, 'blue-jay-gbif')\n",
        "\n",
        "os.makedirs(gbif_dir, exist_ok=True)\n",
        "\n",
        "gbif_path = os.path.join(gbif_dir, 'blue-jay.csv')"
      ]
    },
    {
      "cell_type": "code",
      "execution_count": 4,
      "id": "b98eb2df",
      "metadata": {},
      "outputs": [
        {
          "name": "stdout",
          "output_type": "stream",
          "text": [
            "/home/jovyan/earth-analytics/data/blue-jay-migration/\n",
            "/home/jovyan/earth-analytics/data/blue-jay-migration/blue-jay-gbif\n",
            "/home/jovyan/earth-analytics/data/blue-jay-migration/blue-jay-gbif/0003394-241007104925546.csv\n",
            "/home/jovyan/earth-analytics/data/blue-jay-migration/0003394-241007104925546.zip\n",
            "/home/jovyan/earth-analytics/data/blue-jay-migration/resolve_ecoregions_dir\n",
            "/home/jovyan/earth-analytics/data/blue-jay-migration/resolve_ecoregions_dir/ecoregions.cpg\n",
            "/home/jovyan/earth-analytics/data/blue-jay-migration/resolve_ecoregions_dir/ecoregions.dbf\n",
            "/home/jovyan/earth-analytics/data/blue-jay-migration/resolve_ecoregions_dir/ecoregions.shp\n",
            "/home/jovyan/earth-analytics/data/blue-jay-migration/resolve_ecoregions_dir/ecoregions.shx\n",
            "/home/jovyan/earth-analytics/data/blue-jay-migration/resolve_ecoregions_dir/ecoregions.prj\n"
          ]
        }
      ],
      "source": [
        "%%bash\n",
        "find ~/earth-analytics/data/blue-jay-migration/"
      ]
    },
    {
      "cell_type": "markdown",
      "id": "2583a48e-621d-42a3-83ca-503c05db41bc",
      "metadata": {},
      "source": [
        ":::\n",
        "\n",
        "### Register and log in to GBIF\n",
        "\n",
        "You will need a [GBIF account](https://www.gbif.org/) to complete this\n",
        "challenge. You can use your GitHub account to authenticate with GBIF.\n",
        "Then, run the following code to save your credentials on your computer.\n",
        "\n",
        "> **Warning**\n",
        ">\n",
        "> Your email address **must** match the email you used to sign up for\n",
        "> GBIF!\n",
        "\n",
        "> **Tip**\n",
        ">\n",
        "> If you accidentally enter your credentials wrong, you can set\n",
        "> `reset_credentials=True` instead of `reset_credentials=False`."
      ]
    },
    {
      "cell_type": "code",
      "execution_count": 5,
      "id": "989f737e",
      "metadata": {},
      "outputs": [],
      "source": [
        "reset_credentials = False\n",
        "# GBIF needs a username, password, and email\n",
        "credentials = dict(\n",
        "    GBIF_USER=(input, 'username'),\n",
        "    GBIF_PWD=(getpass, 'password'),\n",
        "    GBIF_EMAIL=(input, 'email'),\n",
        ")\n",
        "for env_variable, (prompt_func, prompt_text) in credentials.items():\n",
        "    # Delete credential from environment if requested\n",
        "    if reset_credentials and (env_variable in os.environ):\n",
        "        os.environ.pop(env_variable)\n",
        "    # Ask for credential and save to environment\n",
        "    if not env_variable in os.environ:\n",
        "        os.environ[env_variable] = prompt_func(prompt_text)"
      ]
    },
    {
      "cell_type": "code",
      "execution_count": 75,
      "id": "b864b2c1",
      "metadata": {},
      "outputs": [
        {
          "name": "stdout",
          "output_type": "stream",
          "text": [
            "hannah.rieder\n"
          ]
        }
      ],
      "source": [
        "%%bash\n",
        "echo $GBIF_USER"
      ]
    },
    {
      "cell_type": "markdown",
      "id": "8b3d472f-2079-4eb9-9454-6ee95c40c2e7",
      "metadata": {},
      "source": [
        "### Get the species key\n",
        "\n",
        "> ** Your task**\n",
        ">\n",
        "> 1.  Replace the `species_name` with the name of the species you want\n",
        ">     to look up\n",
        "> 2.  Run the code to get the species key"
      ]
    },
    {
      "cell_type": "code",
      "execution_count": 6,
      "id": "90a15d5c",
      "metadata": {
        "highlight": true
      },
      "outputs": [
        {
          "data": {
            "text/plain": [
              "{'key': 168007494,\n",
              " 'datasetKey': 'a6c6cead-b5ce-4a4e-8cf5-1542ba708dec',\n",
              " 'nubKey': 2482593,\n",
              " 'parentKey': 168007493,\n",
              " 'parent': 'Cyanocitta',\n",
              " 'kingdom': 'Animalia',\n",
              " 'phylum': 'Chordata',\n",
              " 'order': 'Passeriformes',\n",
              " 'family': 'Corvidae',\n",
              " 'genus': 'Cyanocitta',\n",
              " 'species': 'Cyanocitta cristata',\n",
              " 'kingdomKey': 167920784,\n",
              " 'phylumKey': 168001715,\n",
              " 'classKey': 168003099,\n",
              " 'orderKey': 168005163,\n",
              " 'familyKey': 168007364,\n",
              " 'genusKey': 168007493,\n",
              " 'speciesKey': 168007494,\n",
              " 'scientificName': 'Cyanocitta cristata',\n",
              " 'canonicalName': 'Cyanocitta cristata',\n",
              " 'nameType': 'SCIENTIFIC',\n",
              " 'taxonomicStatus': 'ACCEPTED',\n",
              " 'rank': 'SPECIES',\n",
              " 'origin': 'SOURCE',\n",
              " 'numDescendants': 0,\n",
              " 'numOccurrences': 0,\n",
              " 'habitats': [],\n",
              " 'nomenclaturalStatus': [],\n",
              " 'threatStatuses': [],\n",
              " 'descriptions': [],\n",
              " 'vernacularNames': [{'vernacularName': 'blåskrike', 'language': 'nob'}],\n",
              " 'higherClassificationMap': {'167920784': 'Animalia',\n",
              "  '168001715': 'Chordata',\n",
              "  '168003099': 'Aves',\n",
              "  '168005163': 'Passeriformes',\n",
              "  '168007364': 'Corvidae',\n",
              "  '168007493': 'Cyanocitta'},\n",
              " 'synonym': False,\n",
              " 'class': 'Aves'}"
            ]
          },
          "execution_count": 6,
          "metadata": {},
          "output_type": "execute_result"
        }
      ],
      "source": [
        "# Query Blue Jay species, Cyanocitta cristata\n",
        "species_info = species.name_lookup('Cyanocitta cristata', rank='species')\n",
        "\n",
        "# Get the first result\n",
        "first_result = species_info['results'][0]\n",
        "first_result"
      ]
    },
    {
      "cell_type": "code",
      "execution_count": 7,
      "id": "410f40f4",
      "metadata": {},
      "outputs": [
        {
          "data": {
            "text/plain": [
              "2482593"
            ]
          },
          "execution_count": 7,
          "metadata": {},
          "output_type": "execute_result"
        }
      ],
      "source": [
        "# Get the Cyanocitta cristata species key (nubKey)\n",
        "species_key = first_result['nubKey']\n",
        "species_key"
      ]
    },
    {
      "cell_type": "code",
      "execution_count": 8,
      "id": "69b4f992",
      "metadata": {},
      "outputs": [
        {
          "data": {
            "text/plain": [
              "('Cyanocitta cristata', 2482593)"
            ]
          },
          "execution_count": 8,
          "metadata": {},
          "output_type": "execute_result"
        }
      ],
      "source": [
        "# Check the result\n",
        "first_result['species'], species_key"
      ]
    },
    {
      "cell_type": "markdown",
      "id": "28bfdb8b-fb88-4c48-befd-ca078f5e2c0d",
      "metadata": {},
      "source": [
        "### Download data from GBIF\n",
        "\n",
        "::: {.callout-task title=“Submit a request to GBIF”\n",
        "\n",
        "1.  Replace `csv_file_pattern` with a string that will match **any**\n",
        "    `.csv` file when used in the `glob` function. HINT: the character\n",
        "    `*` represents any number of any values except the file separator\n",
        "    (e.g. `/`)\n",
        "\n",
        "2.  Add parameters to the GBIF download function, `occ.download()` to\n",
        "    limit your query to:\n",
        "\n",
        "    -   observations\n",
        "    -   from 2023\n",
        "    -   with spatial coordinates.\n",
        "\n",
        "3.  Then, run the download. **This can take a few minutes**. :::"
      ]
    },
    {
      "cell_type": "code",
      "execution_count": 9,
      "id": "5c310666",
      "metadata": {},
      "outputs": [],
      "source": [
        "\n",
        "os.environ['GBIF_DOWNLOAD_KEY'] = '0003394-241007104925546'\n"
      ]
    },
    {
      "cell_type": "code",
      "execution_count": 10,
      "id": "0bdc80c5",
      "metadata": {
        "highlight": true
      },
      "outputs": [],
      "source": [
        "# Only download blue jay data once\n",
        "gbif_pattern = os.path.join(gbif_dir, '*.csv')\n",
        "if not glob(gbif_pattern):\n",
        "    # Submit query to GBIF\n",
        "    # Only download once\n",
        "    if not 'GBIF_DOWNLOAD_KEY' in os.environ:\n",
        "        gbif_query = occ.download([\n",
        "            \"speciesKey = 2482593\",\n",
        "            \"year = 2023\",\n",
        "            \"hasCoordinate = TRUE\",\n",
        "        ])\n",
        "        download_key = gbif_query[0]\n",
        "        os.environ['GBIF_DOWNLOAD_KEY'] = gbif_query[0]\n",
        "    else: \n",
        "        download_key = os.environ['GBIF_DOWNLOAD_KEY']\n",
        "\n",
        "    # Wait for the download to build\n",
        "    wait = occ.download_meta(download_key)['status']\n",
        "    while not wait=='SUCCEEDED':\n",
        "        wait = occ.download_meta(download_key)['status']\n",
        "        time.sleep(5)\n",
        "\n",
        "    # Download GBIF data\n",
        "    download_info = occ.download_get(\n",
        "        os.environ['GBIF_DOWNLOAD_KEY'], \n",
        "        path=data_dir)\n",
        "\n",
        "    # Unzip GBIF data\n",
        "    with zipfile.ZipFile(download_info['path']) as download_zip:\n",
        "        download_zip.extractall(path=gbif_dir)\n",
        "\n",
        "# Find the extracted .csv file path\n",
        "gbif_path = glob(gbif_pattern)[0]"
      ]
    },
    {
      "cell_type": "markdown",
      "id": "90ed1038-74bd-4a87-a50f-1b0abc216277",
      "metadata": {},
      "source": [
        "### Load the GBIF data into Python as a DataFrame, gbif_df. **MAKE SURE TO ADD NOTES ABOUT WHY WE'RE USING THIS DATA AND WHAT IT IS AND CITE IT. Why blue jays?**\n"
      ]
    },
    {
      "cell_type": "code",
      "execution_count": 11,
      "id": "94999229",
      "metadata": {},
      "outputs": [
        {
          "name": "stdout",
          "output_type": "stream",
          "text": [
            "gbifID\tdatasetKey\toccurrenceID\tkingdom\tphylum\tclass\torder\tfamily\tgenus\tspecies\tinfraspecificEpithet\ttaxonRank\tscientificName\tverbatimScientificName\tverbatimScientificNameAuthorship\tcountryCode\tlocality\tstateProvince\toccurrenceStatus\tindividualCount\tpublishingOrgKey\tdecimalLatitude\tdecimalLongitude\tcoordinateUncertaintyInMeters\tcoordinatePrecision\televation\televationAccuracy\tdepth\tdepthAccuracy\teventDate\tday\tmonth\tyear\ttaxonKey\tspeciesKey\tbasisOfRecord\tinstitutionCode\tcollectionCode\tcatalogNumber\trecordNumber\tidentifiedBy\tdateIdentified\tlicense\trightsHolder\trecordedBy\ttypeStatus\testablishmentMeans\tlastInterpreted\tmediaType\tissue\n",
            "4686102821\t4fa7b334-ce0d-4e88-aaae-2e0c138d049e\tURN:catalog:CLO:EBIRD:OBS1601518595\tAnimalia\tChordata\tAves\tPasseriformes\tCorvidae\tCyanocitta\tCyanocitta cristata\t\tSPECIES\tCyanocitta cristata (Linnaeus, 1758)\tCyanocitta cristata\t\tUS\tHartman Reserve Nature Center\tIowa\tPRESENT\t1\te2e717bf-551a-4917-bdc9-4fa0f342c530\t42.52484\t-92.41017\t\t\t\t\t\t\t2023-01-08\t8\t1\t2023\t2482593\t2482593\tHUMAN_OBSERVATION\tCLO\tEBIRD\tOBS1601518595\t\t\t\tCC_BY_4_0\t\tobsr161094\t\t\t2024-04-17T08:37:55.726Z\t\tCONTINENT_DERIVED_FROM_COORDINATES;TAXON_MATCH_TAXON_CONCEPT_ID_IGNORED\n"
          ]
        }
      ],
      "source": [
        "!head -n 2 $gbif_path "
      ]
    },
    {
      "cell_type": "code",
      "execution_count": 12,
      "id": "88e56065",
      "metadata": {
        "highlight": true
      },
      "outputs": [
        {
          "data": {
            "text/html": [
              "<div>\n",
              "<style scoped>\n",
              "    .dataframe tbody tr th:only-of-type {\n",
              "        vertical-align: middle;\n",
              "    }\n",
              "\n",
              "    .dataframe tbody tr th {\n",
              "        vertical-align: top;\n",
              "    }\n",
              "\n",
              "    .dataframe thead th {\n",
              "        text-align: right;\n",
              "    }\n",
              "</style>\n",
              "<table border=\"1\" class=\"dataframe\">\n",
              "  <thead>\n",
              "    <tr style=\"text-align: right;\">\n",
              "      <th></th>\n",
              "      <th>decimalLatitude</th>\n",
              "      <th>decimalLongitude</th>\n",
              "      <th>month</th>\n",
              "    </tr>\n",
              "    <tr>\n",
              "      <th>gbifID</th>\n",
              "      <th></th>\n",
              "      <th></th>\n",
              "      <th></th>\n",
              "    </tr>\n",
              "  </thead>\n",
              "  <tbody>\n",
              "    <tr>\n",
              "      <th>4686102821</th>\n",
              "      <td>42.524840</td>\n",
              "      <td>-92.410170</td>\n",
              "      <td>1</td>\n",
              "    </tr>\n",
              "    <tr>\n",
              "      <th>4700003912</th>\n",
              "      <td>46.159824</td>\n",
              "      <td>-72.755104</td>\n",
              "      <td>1</td>\n",
              "    </tr>\n",
              "    <tr>\n",
              "      <th>4630316247</th>\n",
              "      <td>34.933560</td>\n",
              "      <td>-82.322210</td>\n",
              "      <td>2</td>\n",
              "    </tr>\n",
              "    <tr>\n",
              "      <th>4650245696</th>\n",
              "      <td>41.338350</td>\n",
              "      <td>-75.890724</td>\n",
              "      <td>2</td>\n",
              "    </tr>\n",
              "    <tr>\n",
              "      <th>4709169271</th>\n",
              "      <td>42.951202</td>\n",
              "      <td>-72.328316</td>\n",
              "      <td>3</td>\n",
              "    </tr>\n",
              "  </tbody>\n",
              "</table>\n",
              "</div>"
            ],
            "text/plain": [
              "            decimalLatitude  decimalLongitude  month\n",
              "gbifID                                              \n",
              "4686102821        42.524840        -92.410170      1\n",
              "4700003912        46.159824        -72.755104      1\n",
              "4630316247        34.933560        -82.322210      2\n",
              "4650245696        41.338350        -75.890724      2\n",
              "4709169271        42.951202        -72.328316      3"
            ]
          },
          "execution_count": 12,
          "metadata": {},
          "output_type": "execute_result"
        }
      ],
      "source": [
        "# Load the blue jay GBIF data\n",
        "gbif_df = pd.read_csv(\n",
        "    gbif_path, \n",
        "    delimiter='\\t',\n",
        "    index_col='gbifID',\n",
        "    usecols=['gbifID', 'decimalLatitude', 'decimalLongitude', 'month']\n",
        ")\n",
        "gbif_df.head()"
      ]
    },
    {
      "cell_type": "markdown",
      "id": "7c0192a6",
      "metadata": {},
      "source": [
        "### Convert the gbif_df into a GeoDataFrame."
      ]
    },
    {
      "cell_type": "code",
      "execution_count": 13,
      "id": "ddd7898a",
      "metadata": {},
      "outputs": [
        {
          "data": {
            "text/html": [
              "<div>\n",
              "<style scoped>\n",
              "    .dataframe tbody tr th:only-of-type {\n",
              "        vertical-align: middle;\n",
              "    }\n",
              "\n",
              "    .dataframe tbody tr th {\n",
              "        vertical-align: top;\n",
              "    }\n",
              "\n",
              "    .dataframe thead th {\n",
              "        text-align: right;\n",
              "    }\n",
              "</style>\n",
              "<table border=\"1\" class=\"dataframe\">\n",
              "  <thead>\n",
              "    <tr style=\"text-align: right;\">\n",
              "      <th></th>\n",
              "      <th>month</th>\n",
              "      <th>geometry</th>\n",
              "    </tr>\n",
              "    <tr>\n",
              "      <th>gbifID</th>\n",
              "      <th></th>\n",
              "      <th></th>\n",
              "    </tr>\n",
              "  </thead>\n",
              "  <tbody>\n",
              "    <tr>\n",
              "      <th>4686102821</th>\n",
              "      <td>1</td>\n",
              "      <td>POINT (-92.41017 42.52484)</td>\n",
              "    </tr>\n",
              "    <tr>\n",
              "      <th>4700003912</th>\n",
              "      <td>1</td>\n",
              "      <td>POINT (-72.7551 46.15982)</td>\n",
              "    </tr>\n",
              "    <tr>\n",
              "      <th>4630316247</th>\n",
              "      <td>2</td>\n",
              "      <td>POINT (-82.32221 34.93356)</td>\n",
              "    </tr>\n",
              "    <tr>\n",
              "      <th>4650245696</th>\n",
              "      <td>2</td>\n",
              "      <td>POINT (-75.89072 41.33835)</td>\n",
              "    </tr>\n",
              "    <tr>\n",
              "      <th>4709169271</th>\n",
              "      <td>3</td>\n",
              "      <td>POINT (-72.32832 42.9512)</td>\n",
              "    </tr>\n",
              "    <tr>\n",
              "      <th>...</th>\n",
              "      <td>...</td>\n",
              "      <td>...</td>\n",
              "    </tr>\n",
              "    <tr>\n",
              "      <th>4650150283</th>\n",
              "      <td>8</td>\n",
              "      <td>POINT (-89.43662 43.13623)</td>\n",
              "    </tr>\n",
              "    <tr>\n",
              "      <th>4816590623</th>\n",
              "      <td>10</td>\n",
              "      <td>POINT (-84.31701 33.79817)</td>\n",
              "    </tr>\n",
              "    <tr>\n",
              "      <th>4615093504</th>\n",
              "      <td>11</td>\n",
              "      <td>POINT (-76.13927 44.87485)</td>\n",
              "    </tr>\n",
              "    <tr>\n",
              "      <th>4813634349</th>\n",
              "      <td>12</td>\n",
              "      <td>POINT (-72.85446 41.85679)</td>\n",
              "    </tr>\n",
              "    <tr>\n",
              "      <th>4843915798</th>\n",
              "      <td>12</td>\n",
              "      <td>POINT (-96.27844 30.59724)</td>\n",
              "    </tr>\n",
              "  </tbody>\n",
              "</table>\n",
              "<p>2785287 rows × 2 columns</p>\n",
              "</div>"
            ],
            "text/plain": [
              "            month                    geometry\n",
              "gbifID                                       \n",
              "4686102821      1  POINT (-92.41017 42.52484)\n",
              "4700003912      1   POINT (-72.7551 46.15982)\n",
              "4630316247      2  POINT (-82.32221 34.93356)\n",
              "4650245696      2  POINT (-75.89072 41.33835)\n",
              "4709169271      3   POINT (-72.32832 42.9512)\n",
              "...           ...                         ...\n",
              "4650150283      8  POINT (-89.43662 43.13623)\n",
              "4816590623     10  POINT (-84.31701 33.79817)\n",
              "4615093504     11  POINT (-76.13927 44.87485)\n",
              "4813634349     12  POINT (-72.85446 41.85679)\n",
              "4843915798     12  POINT (-96.27844 30.59724)\n",
              "\n",
              "[2785287 rows x 2 columns]"
            ]
          },
          "execution_count": 13,
          "metadata": {},
          "output_type": "execute_result"
        }
      ],
      "source": [
        "# Convert the gbif_df into a GeoDataFrame.\n",
        "# Only show the month and geomtery columns of the gbif_gdf.\n",
        "gbif_gdf = (\n",
        "    gpd.GeoDataFrame(\n",
        "        gbif_df,\n",
        "        geometry=gpd.points_from_xy(\n",
        "            gbif_df.decimalLongitude,\n",
        "            gbif_df.decimalLatitude),\n",
        "        crs='EPSG:4326')\n",
        "        [['month', 'geometry']]\n",
        "        )\n",
        "\n",
        "gbif_gdf\n"
      ]
    },
    {
      "cell_type": "markdown",
      "id": "66c6669c",
      "metadata": {},
      "source": [
        "### Download the ecoregion data. **MAKE SURE TO ADD NOTES ABOUT WHY WE'RE USING THIS DATA AND CITE IT**"
      ]
    },
    {
      "cell_type": "code",
      "execution_count": 14,
      "id": "1b552407",
      "metadata": {},
      "outputs": [],
      "source": [
        "# Set up the ecoregion boundary URL\n",
        "ecoregions_url = (\"https://storage.googleapis.com\"\n",
        "                  \"/teow2016/Ecoregions2017.zip\"\n",
        "                  )\n",
        "\n",
        "# Set up a path to save the data on your machine\n",
        "ecoregions_dir = os.path.join(data_dir, 'resolve_ecoregions_dir')\n",
        "\n",
        "# Make the ecoregions directory\n",
        "os.makedirs(ecoregions_dir, exist_ok=True)\n",
        "\n",
        "# Join ecoregions shapefile path\n",
        "ecoregions_path = os.path.join(ecoregions_dir, 'ecoregions.shp')\n",
        "\n",
        "# Only download once\n",
        "if not os.path.exists(ecoregions_path):\n",
        "    my_gdf = gpd.read_file(ecoregions_url)\n",
        "    my_gdf.to_file(ecoregions_path)"
      ]
    },
    {
      "cell_type": "code",
      "execution_count": 15,
      "id": "345e8b48",
      "metadata": {},
      "outputs": [
        {
          "name": "stdout",
          "output_type": "stream",
          "text": [
            "/home/jovyan/earth-analytics/data/blue-jay-migration/resolve_ecoregions_dir/ecoregions.shp\n"
          ]
        }
      ],
      "source": [
        "%%bash\n",
        "find ~/earth-analytics/data/blue-jay-migration -name '*.shp'"
      ]
    },
    {
      "cell_type": "code",
      "execution_count": 39,
      "id": "95f8de90",
      "metadata": {},
      "outputs": [],
      "source": [
        "# Open up the ecoregions boundaries\n",
        "ecoregions_gdf = gpd.read_file(ecoregions_path)\n",
        "\n",
        "# Plot the ecoregions to check download\n",
        "#ecoregions_gdf.plot()"
      ]
    },
    {
      "cell_type": "code",
      "execution_count": 40,
      "id": "84e730d7",
      "metadata": {},
      "outputs": [
        {
          "data": {
            "text/html": [
              "<div>\n",
              "<style scoped>\n",
              "    .dataframe tbody tr th:only-of-type {\n",
              "        vertical-align: middle;\n",
              "    }\n",
              "\n",
              "    .dataframe tbody tr th {\n",
              "        vertical-align: top;\n",
              "    }\n",
              "\n",
              "    .dataframe thead th {\n",
              "        text-align: right;\n",
              "    }\n",
              "</style>\n",
              "<table border=\"1\" class=\"dataframe\">\n",
              "  <thead>\n",
              "    <tr style=\"text-align: right;\">\n",
              "      <th></th>\n",
              "      <th>OBJECTID</th>\n",
              "      <th>ECO_NAME</th>\n",
              "      <th>BIOME_NUM</th>\n",
              "      <th>BIOME_NAME</th>\n",
              "      <th>REALM</th>\n",
              "      <th>ECO_BIOME_</th>\n",
              "      <th>NNH</th>\n",
              "      <th>ECO_ID</th>\n",
              "      <th>SHAPE_LENG</th>\n",
              "      <th>SHAPE_AREA</th>\n",
              "      <th>NNH_NAME</th>\n",
              "      <th>COLOR</th>\n",
              "      <th>COLOR_BIO</th>\n",
              "      <th>COLOR_NNH</th>\n",
              "      <th>LICENSE</th>\n",
              "      <th>geometry</th>\n",
              "    </tr>\n",
              "  </thead>\n",
              "  <tbody>\n",
              "    <tr>\n",
              "      <th>0</th>\n",
              "      <td>1.0</td>\n",
              "      <td>Adelie Land tundra</td>\n",
              "      <td>11.0</td>\n",
              "      <td>Tundra</td>\n",
              "      <td>Antarctica</td>\n",
              "      <td>AN11</td>\n",
              "      <td>1</td>\n",
              "      <td>117</td>\n",
              "      <td>9.749780</td>\n",
              "      <td>0.038948</td>\n",
              "      <td>Half Protected</td>\n",
              "      <td>#63CFAB</td>\n",
              "      <td>#9ED7C2</td>\n",
              "      <td>#257339</td>\n",
              "      <td>CC-BY 4.0</td>\n",
              "      <td>MULTIPOLYGON (((158.7141 -69.60657, 158.71264 ...</td>\n",
              "    </tr>\n",
              "    <tr>\n",
              "      <th>1</th>\n",
              "      <td>2.0</td>\n",
              "      <td>Admiralty Islands lowland rain forests</td>\n",
              "      <td>1.0</td>\n",
              "      <td>Tropical &amp; Subtropical Moist Broadleaf Forests</td>\n",
              "      <td>Australasia</td>\n",
              "      <td>AU01</td>\n",
              "      <td>2</td>\n",
              "      <td>135</td>\n",
              "      <td>4.800349</td>\n",
              "      <td>0.170599</td>\n",
              "      <td>Nature Could Reach Half Protected</td>\n",
              "      <td>#70A800</td>\n",
              "      <td>#38A700</td>\n",
              "      <td>#7BC141</td>\n",
              "      <td>CC-BY 4.0</td>\n",
              "      <td>MULTIPOLYGON (((147.28819 -2.57589, 147.2715 -...</td>\n",
              "    </tr>\n",
              "  </tbody>\n",
              "</table>\n",
              "</div>"
            ],
            "text/plain": [
              "   OBJECTID                                ECO_NAME  BIOME_NUM  \\\n",
              "0       1.0                      Adelie Land tundra       11.0   \n",
              "1       2.0  Admiralty Islands lowland rain forests        1.0   \n",
              "\n",
              "                                       BIOME_NAME        REALM ECO_BIOME_  \\\n",
              "0                                          Tundra   Antarctica       AN11   \n",
              "1  Tropical & Subtropical Moist Broadleaf Forests  Australasia       AU01   \n",
              "\n",
              "   NNH  ECO_ID  SHAPE_LENG  SHAPE_AREA                           NNH_NAME  \\\n",
              "0    1     117    9.749780    0.038948                     Half Protected   \n",
              "1    2     135    4.800349    0.170599  Nature Could Reach Half Protected   \n",
              "\n",
              "     COLOR COLOR_BIO COLOR_NNH    LICENSE  \\\n",
              "0  #63CFAB   #9ED7C2   #257339  CC-BY 4.0   \n",
              "1  #70A800   #38A700   #7BC141  CC-BY 4.0   \n",
              "\n",
              "                                            geometry  \n",
              "0  MULTIPOLYGON (((158.7141 -69.60657, 158.71264 ...  \n",
              "1  MULTIPOLYGON (((147.28819 -2.57589, 147.2715 -...  "
            ]
          },
          "execution_count": 40,
          "metadata": {},
          "output_type": "execute_result"
        }
      ],
      "source": [
        "ecoregions_gdf.head(2)"
      ]
    },
    {
      "cell_type": "code",
      "execution_count": 42,
      "id": "9fc25ca8",
      "metadata": {},
      "outputs": [
        {
          "data": {
            "text/html": [
              "<div>\n",
              "<style scoped>\n",
              "    .dataframe tbody tr th:only-of-type {\n",
              "        vertical-align: middle;\n",
              "    }\n",
              "\n",
              "    .dataframe tbody tr th {\n",
              "        vertical-align: top;\n",
              "    }\n",
              "\n",
              "    .dataframe thead th {\n",
              "        text-align: right;\n",
              "    }\n",
              "</style>\n",
              "<table border=\"1\" class=\"dataframe\">\n",
              "  <thead>\n",
              "    <tr style=\"text-align: right;\">\n",
              "      <th></th>\n",
              "      <th>OBJECTID</th>\n",
              "      <th>ECO_NAME</th>\n",
              "      <th>SHAPE_AREA</th>\n",
              "      <th>geometry</th>\n",
              "    </tr>\n",
              "  </thead>\n",
              "  <tbody>\n",
              "    <tr>\n",
              "      <th>0</th>\n",
              "      <td>1.0</td>\n",
              "      <td>Adelie Land tundra</td>\n",
              "      <td>0.038948</td>\n",
              "      <td>MULTIPOLYGON (((158.7141 -69.60657, 158.71264 ...</td>\n",
              "    </tr>\n",
              "    <tr>\n",
              "      <th>1</th>\n",
              "      <td>2.0</td>\n",
              "      <td>Admiralty Islands lowland rain forests</td>\n",
              "      <td>0.170599</td>\n",
              "      <td>MULTIPOLYGON (((147.28819 -2.57589, 147.2715 -...</td>\n",
              "    </tr>\n",
              "    <tr>\n",
              "      <th>2</th>\n",
              "      <td>3.0</td>\n",
              "      <td>Aegean and Western Turkey sclerophyllous and m...</td>\n",
              "      <td>13.844952</td>\n",
              "      <td>MULTIPOLYGON (((26.88659 35.32161, 26.88297 35...</td>\n",
              "    </tr>\n",
              "    <tr>\n",
              "      <th>3</th>\n",
              "      <td>4.0</td>\n",
              "      <td>Afghan Mountains semi-desert</td>\n",
              "      <td>1.355536</td>\n",
              "      <td>MULTIPOLYGON (((65.48655 34.71401, 65.52872 34...</td>\n",
              "    </tr>\n",
              "    <tr>\n",
              "      <th>4</th>\n",
              "      <td>5.0</td>\n",
              "      <td>Ahklun and Kilbuck Upland Tundra</td>\n",
              "      <td>8.196573</td>\n",
              "      <td>MULTIPOLYGON (((-160.26404 58.64097, -160.2673...</td>\n",
              "    </tr>\n",
              "  </tbody>\n",
              "</table>\n",
              "</div>"
            ],
            "text/plain": [
              "   OBJECTID                                           ECO_NAME  SHAPE_AREA  \\\n",
              "0       1.0                                 Adelie Land tundra    0.038948   \n",
              "1       2.0             Admiralty Islands lowland rain forests    0.170599   \n",
              "2       3.0  Aegean and Western Turkey sclerophyllous and m...   13.844952   \n",
              "3       4.0                       Afghan Mountains semi-desert    1.355536   \n",
              "4       5.0                   Ahklun and Kilbuck Upland Tundra    8.196573   \n",
              "\n",
              "                                            geometry  \n",
              "0  MULTIPOLYGON (((158.7141 -69.60657, 158.71264 ...  \n",
              "1  MULTIPOLYGON (((147.28819 -2.57589, 147.2715 -...  \n",
              "2  MULTIPOLYGON (((26.88659 35.32161, 26.88297 35...  \n",
              "3  MULTIPOLYGON (((65.48655 34.71401, 65.52872 34...  \n",
              "4  MULTIPOLYGON (((-160.26404 58.64097, -160.2673...  "
            ]
          },
          "execution_count": 42,
          "metadata": {},
          "output_type": "execute_result"
        }
      ],
      "source": [
        "# Make the ecoregions_gdf easier to work with.\n",
        "ecoregions_clean_gdf = ecoregions_gdf[['OBJECTID', 'ECO_NAME', 'SHAPE_AREA', 'geometry']]\n",
        "\n",
        "ecoregions_clean_gdf.head()\n"
      ]
    },
    {
      "cell_type": "markdown",
      "id": "2dcb57bb",
      "metadata": {},
      "source": [
        "### Normalize Data"
      ]
    },
    {
      "cell_type": "code",
      "execution_count": 43,
      "id": "ee6c46a7",
      "metadata": {},
      "outputs": [
        {
          "data": {
            "text/html": [
              "<div>\n",
              "<style scoped>\n",
              "    .dataframe tbody tr th:only-of-type {\n",
              "        vertical-align: middle;\n",
              "    }\n",
              "\n",
              "    .dataframe tbody tr th {\n",
              "        vertical-align: top;\n",
              "    }\n",
              "\n",
              "    .dataframe thead th {\n",
              "        text-align: right;\n",
              "    }\n",
              "</style>\n",
              "<table border=\"1\" class=\"dataframe\">\n",
              "  <thead>\n",
              "    <tr style=\"text-align: right;\">\n",
              "      <th></th>\n",
              "      <th>gbifID</th>\n",
              "      <th>OBJECTID</th>\n",
              "      <th>month</th>\n",
              "      <th>ECO_NAME</th>\n",
              "    </tr>\n",
              "  </thead>\n",
              "  <tbody>\n",
              "    <tr>\n",
              "      <th>12</th>\n",
              "      <td>4813860902</td>\n",
              "      <td>13.0</td>\n",
              "      <td>11</td>\n",
              "      <td>Alberta-British Columbia foothills forests</td>\n",
              "    </tr>\n",
              "    <tr>\n",
              "      <th>12</th>\n",
              "      <td>4755451365</td>\n",
              "      <td>13.0</td>\n",
              "      <td>12</td>\n",
              "      <td>Alberta-British Columbia foothills forests</td>\n",
              "    </tr>\n",
              "    <tr>\n",
              "      <th>12</th>\n",
              "      <td>4831334232</td>\n",
              "      <td>13.0</td>\n",
              "      <td>12</td>\n",
              "      <td>Alberta-British Columbia foothills forests</td>\n",
              "    </tr>\n",
              "    <tr>\n",
              "      <th>12</th>\n",
              "      <td>4778369322</td>\n",
              "      <td>13.0</td>\n",
              "      <td>2</td>\n",
              "      <td>Alberta-British Columbia foothills forests</td>\n",
              "    </tr>\n",
              "    <tr>\n",
              "      <th>12</th>\n",
              "      <td>4610790022</td>\n",
              "      <td>13.0</td>\n",
              "      <td>2</td>\n",
              "      <td>Alberta-British Columbia foothills forests</td>\n",
              "    </tr>\n",
              "    <tr>\n",
              "      <th>...</th>\n",
              "      <td>...</td>\n",
              "      <td>...</td>\n",
              "      <td>...</td>\n",
              "      <td>...</td>\n",
              "    </tr>\n",
              "    <tr>\n",
              "      <th>833</th>\n",
              "      <td>4816429374</td>\n",
              "      <td>839.0</td>\n",
              "      <td>9</td>\n",
              "      <td>Northern Rockies conifer forests</td>\n",
              "    </tr>\n",
              "    <tr>\n",
              "      <th>833</th>\n",
              "      <td>4774079338</td>\n",
              "      <td>839.0</td>\n",
              "      <td>7</td>\n",
              "      <td>Northern Rockies conifer forests</td>\n",
              "    </tr>\n",
              "    <tr>\n",
              "      <th>833</th>\n",
              "      <td>4773268048</td>\n",
              "      <td>839.0</td>\n",
              "      <td>2</td>\n",
              "      <td>Northern Rockies conifer forests</td>\n",
              "    </tr>\n",
              "    <tr>\n",
              "      <th>833</th>\n",
              "      <td>4730890881</td>\n",
              "      <td>839.0</td>\n",
              "      <td>11</td>\n",
              "      <td>Northern Rockies conifer forests</td>\n",
              "    </tr>\n",
              "    <tr>\n",
              "      <th>833</th>\n",
              "      <td>4804544110</td>\n",
              "      <td>839.0</td>\n",
              "      <td>7</td>\n",
              "      <td>Northern Rockies conifer forests</td>\n",
              "    </tr>\n",
              "  </tbody>\n",
              "</table>\n",
              "<p>2753210 rows × 4 columns</p>\n",
              "</div>"
            ],
            "text/plain": [
              "         gbifID  OBJECTID  month                                    ECO_NAME\n",
              "12   4813860902      13.0     11  Alberta-British Columbia foothills forests\n",
              "12   4755451365      13.0     12  Alberta-British Columbia foothills forests\n",
              "12   4831334232      13.0     12  Alberta-British Columbia foothills forests\n",
              "12   4778369322      13.0      2  Alberta-British Columbia foothills forests\n",
              "12   4610790022      13.0      2  Alberta-British Columbia foothills forests\n",
              "..          ...       ...    ...                                         ...\n",
              "833  4816429374     839.0      9            Northern Rockies conifer forests\n",
              "833  4774079338     839.0      7            Northern Rockies conifer forests\n",
              "833  4773268048     839.0      2            Northern Rockies conifer forests\n",
              "833  4730890881     839.0     11            Northern Rockies conifer forests\n",
              "833  4804544110     839.0      7            Northern Rockies conifer forests\n",
              "\n",
              "[2753210 rows x 4 columns]"
            ]
          },
          "execution_count": 43,
          "metadata": {},
          "output_type": "execute_result"
        }
      ],
      "source": [
        "gbif_ecoregion_gdf = (\n",
        "    ecoregions_clean_gdf\n",
        "    .to_crs(gbif_gdf.crs)\n",
        "    .sjoin(\n",
        "        gbif_gdf,\n",
        "        how='inner',\n",
        "        predicate='contains')\n",
        "    [['gbifID', 'OBJECTID','month', 'ECO_NAME']]\n",
        "    )\n",
        "\n",
        "gbif_ecoregion_gdf"
      ]
    }
  ],
  "metadata": {
    "kernelspec": {
      "display_name": "base",
      "language": "python",
      "name": "python3"
    },
    "language_info": {
      "codemirror_mode": {
        "name": "ipython",
        "version": 3
      },
      "file_extension": ".py",
      "mimetype": "text/x-python",
      "name": "python",
      "nbconvert_exporter": "python",
      "pygments_lexer": "ipython3",
      "version": "3.11.6"
    }
  },
  "nbformat": 4,
  "nbformat_minor": 5
}
