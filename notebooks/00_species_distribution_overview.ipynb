{
  "cells": [
    {
      "cell_type": "markdown",
      "id": "b7e7dc48-3ce6-452d-bd75-09fca2f00c2b",
      "metadata": {},
      "source": [
        "# \n",
        "\n",
        "<link rel=\"stylesheet\" type=\"text/css\" href=\"./assets/styles.css\"><div class=\"callout callout-style-default callout-titled callout-response\"><div class=\"callout-header\"><div class=\"callout-icon-container\"><i class=\"callout-icon\"></i></div><div class=\"callout-title-container flex-fill\">What can we learn from migration patterns?</div></div><div class=\"callout-body-container callout-body\"><p>In the cell below, reflect on what you know about migration. You\n",
        "could consider:</p>\n",
        "<ol type=\"1\">\n",
        "<li>What are some reasons that animals migrate?</li>\n",
        "<li>How might climate change affect animal migrations?</li>\n",
        "<li>Do you notice any animal migrations in your area?</li>\n",
        "</ol></div></div>"
      ]
    },
    {
      "cell_type": "markdown",
      "id": "09ea9f1d-2434-41ec-9d7b-65eb3153d6d6",
      "metadata": {},
      "source": [
        "Animals may migrate for several reasons:\n",
        "* There could be a specific location animals go to for breeding season\n",
        "* Maybe animals need to move with the changing seasons so they don't get too hot or too cold\n",
        "* There could be food pressures - maybe a specific food animals eat is only available in certain areas depending on the season\n",
        "* If a natural disaster occurs that affects animals' habitats, maybe they need to migrate to find a new suitable habitat\n",
        "\n",
        "Climate change could affect animal migrations because as temperatures (and everything else) changes, areas that were once suitable for a certain species may no longer be livable for them. Also, when thinking specifically about how humans are contributing to climate change, if humans use a certain area for oil drilling or to create wind farms, that could permanently alter animals' habitats.\n",
        "\n",
        "The main animal migration I notice is geese flying south in the fall and early winter. I always notice flocks of them stop by our area in Boulder County, Colorado during the middle and end of summer and then notice them leave when it starts to get substantially colder. \n",
        "\n",
        "Overall, I think we can learn a lot from migration patterns. If migration patterns change, that could be a solid source of evidence of climate change. For example, if geese start migrating later in the fall and later into the winter, would that tell us that our summers are staying warmer for longer? Also, if a species no longer stops in an area during their migration pattern, could that tell us that something about the area is no longer suitable for them? Did that area become too warm or cold at the wrong time? Is food that was once available in that area no longer available? "
      ]
    }
  ],
  "metadata": {
    "kernelspec": {
      "display_name": "Python 3",
      "language": "python",
      "name": "python3"
    }
  },
  "nbformat": 4,
  "nbformat_minor": 5
}
